{
 "cells": [
  {
   "cell_type": "markdown",
   "metadata": {},
   "source": [
    "# Исследование объявлений о продаже квартир\n",
    "\n",
    "В вашем распоряжении данные сервиса Яндекс.Недвижимость — архив объявлений о продаже квартир в Санкт-Петербурге и соседних населённых пунктов за несколько лет. Нужно научиться определять рыночную стоимость объектов недвижимости. Ваша задача — установить параметры. Это позволит построить автоматизированную систему: она отследит аномалии и мошенническую деятельность. \n",
    "\n",
    "По каждой квартире на продажу доступны два вида данных. Первые вписаны пользователем, вторые — получены автоматически на основе картографических данных. Например, расстояние до центра, аэропорта, ближайшего парка и водоёма. "
   ]
  },
  {
   "cell_type": "markdown",
   "metadata": {},
   "source": [
    "### Откройте файл с данными и изучите общую информацию. "
   ]
  },
  {
   "cell_type": "code",
   "execution_count": 1,
   "metadata": {},
   "outputs": [
    {
     "name": "stdout",
     "output_type": "stream",
     "text": [
      "<class 'pandas.core.frame.DataFrame'>\n",
      "RangeIndex: 23699 entries, 0 to 23698\n",
      "Data columns (total 22 columns):\n",
      " #   Column                Non-Null Count  Dtype  \n",
      "---  ------                --------------  -----  \n",
      " 0   total_images          23699 non-null  int64  \n",
      " 1   last_price            23699 non-null  float64\n",
      " 2   total_area            23699 non-null  float64\n",
      " 3   first_day_exposition  23699 non-null  object \n",
      " 4   rooms                 23699 non-null  int64  \n",
      " 5   ceiling_height        14504 non-null  float64\n",
      " 6   floors_total          23613 non-null  float64\n",
      " 7   living_area           21796 non-null  float64\n",
      " 8   floor                 23699 non-null  int64  \n",
      " 9   is_apartment          2775 non-null   object \n",
      " 10  studio                23699 non-null  bool   \n",
      " 11  open_plan             23699 non-null  bool   \n",
      " 12  kitchen_area          21421 non-null  float64\n",
      " 13  balcony               12180 non-null  float64\n",
      " 14  locality_name         23650 non-null  object \n",
      " 15  airports_nearest      18157 non-null  float64\n",
      " 16  cityCenters_nearest   18180 non-null  float64\n",
      " 17  parks_around3000      18181 non-null  float64\n",
      " 18  parks_nearest         8079 non-null   float64\n",
      " 19  ponds_around3000      18181 non-null  float64\n",
      " 20  ponds_nearest         9110 non-null   float64\n",
      " 21  days_exposition       20518 non-null  float64\n",
      "dtypes: bool(2), float64(14), int64(3), object(3)\n",
      "memory usage: 3.7+ MB\n"
     ]
    }
   ],
   "source": [
    "import pandas as pd\n",
    "data = pd.read_csv('/datasets/real_estate_data.csv', sep = '\\t')\n",
    "data.info()"
   ]
  },
  {
   "cell_type": "code",
   "execution_count": 2,
   "metadata": {
    "scrolled": true
   },
   "outputs": [
    {
     "data": {
      "text/html": [
       "<div>\n",
       "<style scoped>\n",
       "    .dataframe tbody tr th:only-of-type {\n",
       "        vertical-align: middle;\n",
       "    }\n",
       "\n",
       "    .dataframe tbody tr th {\n",
       "        vertical-align: top;\n",
       "    }\n",
       "\n",
       "    .dataframe thead th {\n",
       "        text-align: right;\n",
       "    }\n",
       "</style>\n",
       "<table border=\"1\" class=\"dataframe\">\n",
       "  <thead>\n",
       "    <tr style=\"text-align: right;\">\n",
       "      <th></th>\n",
       "      <th>total_images</th>\n",
       "      <th>last_price</th>\n",
       "      <th>total_area</th>\n",
       "      <th>first_day_exposition</th>\n",
       "      <th>rooms</th>\n",
       "      <th>ceiling_height</th>\n",
       "      <th>floors_total</th>\n",
       "      <th>living_area</th>\n",
       "      <th>floor</th>\n",
       "      <th>is_apartment</th>\n",
       "      <th>...</th>\n",
       "      <th>kitchen_area</th>\n",
       "      <th>balcony</th>\n",
       "      <th>locality_name</th>\n",
       "      <th>airports_nearest</th>\n",
       "      <th>cityCenters_nearest</th>\n",
       "      <th>parks_around3000</th>\n",
       "      <th>parks_nearest</th>\n",
       "      <th>ponds_around3000</th>\n",
       "      <th>ponds_nearest</th>\n",
       "      <th>days_exposition</th>\n",
       "    </tr>\n",
       "  </thead>\n",
       "  <tbody>\n",
       "    <tr>\n",
       "      <th>0</th>\n",
       "      <td>20</td>\n",
       "      <td>13000000.0</td>\n",
       "      <td>108.00</td>\n",
       "      <td>2019-03-07T00:00:00</td>\n",
       "      <td>3</td>\n",
       "      <td>2.70</td>\n",
       "      <td>16.0</td>\n",
       "      <td>51.00</td>\n",
       "      <td>8</td>\n",
       "      <td>NaN</td>\n",
       "      <td>...</td>\n",
       "      <td>25.00</td>\n",
       "      <td>NaN</td>\n",
       "      <td>Санкт-Петербург</td>\n",
       "      <td>18863.0</td>\n",
       "      <td>16028.0</td>\n",
       "      <td>1.0</td>\n",
       "      <td>482.0</td>\n",
       "      <td>2.0</td>\n",
       "      <td>755.0</td>\n",
       "      <td>NaN</td>\n",
       "    </tr>\n",
       "    <tr>\n",
       "      <th>1</th>\n",
       "      <td>7</td>\n",
       "      <td>3350000.0</td>\n",
       "      <td>40.40</td>\n",
       "      <td>2018-12-04T00:00:00</td>\n",
       "      <td>1</td>\n",
       "      <td>NaN</td>\n",
       "      <td>11.0</td>\n",
       "      <td>18.60</td>\n",
       "      <td>1</td>\n",
       "      <td>NaN</td>\n",
       "      <td>...</td>\n",
       "      <td>11.00</td>\n",
       "      <td>2.0</td>\n",
       "      <td>посёлок Шушары</td>\n",
       "      <td>12817.0</td>\n",
       "      <td>18603.0</td>\n",
       "      <td>0.0</td>\n",
       "      <td>NaN</td>\n",
       "      <td>0.0</td>\n",
       "      <td>NaN</td>\n",
       "      <td>81.0</td>\n",
       "    </tr>\n",
       "    <tr>\n",
       "      <th>2</th>\n",
       "      <td>10</td>\n",
       "      <td>5196000.0</td>\n",
       "      <td>56.00</td>\n",
       "      <td>2015-08-20T00:00:00</td>\n",
       "      <td>2</td>\n",
       "      <td>NaN</td>\n",
       "      <td>5.0</td>\n",
       "      <td>34.30</td>\n",
       "      <td>4</td>\n",
       "      <td>NaN</td>\n",
       "      <td>...</td>\n",
       "      <td>8.30</td>\n",
       "      <td>0.0</td>\n",
       "      <td>Санкт-Петербург</td>\n",
       "      <td>21741.0</td>\n",
       "      <td>13933.0</td>\n",
       "      <td>1.0</td>\n",
       "      <td>90.0</td>\n",
       "      <td>2.0</td>\n",
       "      <td>574.0</td>\n",
       "      <td>558.0</td>\n",
       "    </tr>\n",
       "    <tr>\n",
       "      <th>3</th>\n",
       "      <td>0</td>\n",
       "      <td>64900000.0</td>\n",
       "      <td>159.00</td>\n",
       "      <td>2015-07-24T00:00:00</td>\n",
       "      <td>3</td>\n",
       "      <td>NaN</td>\n",
       "      <td>14.0</td>\n",
       "      <td>NaN</td>\n",
       "      <td>9</td>\n",
       "      <td>NaN</td>\n",
       "      <td>...</td>\n",
       "      <td>NaN</td>\n",
       "      <td>0.0</td>\n",
       "      <td>Санкт-Петербург</td>\n",
       "      <td>28098.0</td>\n",
       "      <td>6800.0</td>\n",
       "      <td>2.0</td>\n",
       "      <td>84.0</td>\n",
       "      <td>3.0</td>\n",
       "      <td>234.0</td>\n",
       "      <td>424.0</td>\n",
       "    </tr>\n",
       "    <tr>\n",
       "      <th>4</th>\n",
       "      <td>2</td>\n",
       "      <td>10000000.0</td>\n",
       "      <td>100.00</td>\n",
       "      <td>2018-06-19T00:00:00</td>\n",
       "      <td>2</td>\n",
       "      <td>3.03</td>\n",
       "      <td>14.0</td>\n",
       "      <td>32.00</td>\n",
       "      <td>13</td>\n",
       "      <td>NaN</td>\n",
       "      <td>...</td>\n",
       "      <td>41.00</td>\n",
       "      <td>NaN</td>\n",
       "      <td>Санкт-Петербург</td>\n",
       "      <td>31856.0</td>\n",
       "      <td>8098.0</td>\n",
       "      <td>2.0</td>\n",
       "      <td>112.0</td>\n",
       "      <td>1.0</td>\n",
       "      <td>48.0</td>\n",
       "      <td>121.0</td>\n",
       "    </tr>\n",
       "    <tr>\n",
       "      <th>5</th>\n",
       "      <td>10</td>\n",
       "      <td>2890000.0</td>\n",
       "      <td>30.40</td>\n",
       "      <td>2018-09-10T00:00:00</td>\n",
       "      <td>1</td>\n",
       "      <td>NaN</td>\n",
       "      <td>12.0</td>\n",
       "      <td>14.40</td>\n",
       "      <td>5</td>\n",
       "      <td>NaN</td>\n",
       "      <td>...</td>\n",
       "      <td>9.10</td>\n",
       "      <td>NaN</td>\n",
       "      <td>городской посёлок Янино-1</td>\n",
       "      <td>NaN</td>\n",
       "      <td>NaN</td>\n",
       "      <td>NaN</td>\n",
       "      <td>NaN</td>\n",
       "      <td>NaN</td>\n",
       "      <td>NaN</td>\n",
       "      <td>55.0</td>\n",
       "    </tr>\n",
       "    <tr>\n",
       "      <th>6</th>\n",
       "      <td>6</td>\n",
       "      <td>3700000.0</td>\n",
       "      <td>37.30</td>\n",
       "      <td>2017-11-02T00:00:00</td>\n",
       "      <td>1</td>\n",
       "      <td>NaN</td>\n",
       "      <td>26.0</td>\n",
       "      <td>10.60</td>\n",
       "      <td>6</td>\n",
       "      <td>NaN</td>\n",
       "      <td>...</td>\n",
       "      <td>14.40</td>\n",
       "      <td>1.0</td>\n",
       "      <td>посёлок Парголово</td>\n",
       "      <td>52996.0</td>\n",
       "      <td>19143.0</td>\n",
       "      <td>0.0</td>\n",
       "      <td>NaN</td>\n",
       "      <td>0.0</td>\n",
       "      <td>NaN</td>\n",
       "      <td>155.0</td>\n",
       "    </tr>\n",
       "    <tr>\n",
       "      <th>7</th>\n",
       "      <td>5</td>\n",
       "      <td>7915000.0</td>\n",
       "      <td>71.60</td>\n",
       "      <td>2019-04-18T00:00:00</td>\n",
       "      <td>2</td>\n",
       "      <td>NaN</td>\n",
       "      <td>24.0</td>\n",
       "      <td>NaN</td>\n",
       "      <td>22</td>\n",
       "      <td>NaN</td>\n",
       "      <td>...</td>\n",
       "      <td>18.90</td>\n",
       "      <td>2.0</td>\n",
       "      <td>Санкт-Петербург</td>\n",
       "      <td>23982.0</td>\n",
       "      <td>11634.0</td>\n",
       "      <td>0.0</td>\n",
       "      <td>NaN</td>\n",
       "      <td>0.0</td>\n",
       "      <td>NaN</td>\n",
       "      <td>NaN</td>\n",
       "    </tr>\n",
       "    <tr>\n",
       "      <th>8</th>\n",
       "      <td>20</td>\n",
       "      <td>2900000.0</td>\n",
       "      <td>33.16</td>\n",
       "      <td>2018-05-23T00:00:00</td>\n",
       "      <td>1</td>\n",
       "      <td>NaN</td>\n",
       "      <td>27.0</td>\n",
       "      <td>15.43</td>\n",
       "      <td>26</td>\n",
       "      <td>NaN</td>\n",
       "      <td>...</td>\n",
       "      <td>8.81</td>\n",
       "      <td>NaN</td>\n",
       "      <td>посёлок Мурино</td>\n",
       "      <td>NaN</td>\n",
       "      <td>NaN</td>\n",
       "      <td>NaN</td>\n",
       "      <td>NaN</td>\n",
       "      <td>NaN</td>\n",
       "      <td>NaN</td>\n",
       "      <td>189.0</td>\n",
       "    </tr>\n",
       "    <tr>\n",
       "      <th>9</th>\n",
       "      <td>18</td>\n",
       "      <td>5400000.0</td>\n",
       "      <td>61.00</td>\n",
       "      <td>2017-02-26T00:00:00</td>\n",
       "      <td>3</td>\n",
       "      <td>2.50</td>\n",
       "      <td>9.0</td>\n",
       "      <td>43.60</td>\n",
       "      <td>7</td>\n",
       "      <td>NaN</td>\n",
       "      <td>...</td>\n",
       "      <td>6.50</td>\n",
       "      <td>2.0</td>\n",
       "      <td>Санкт-Петербург</td>\n",
       "      <td>50898.0</td>\n",
       "      <td>15008.0</td>\n",
       "      <td>0.0</td>\n",
       "      <td>NaN</td>\n",
       "      <td>0.0</td>\n",
       "      <td>NaN</td>\n",
       "      <td>289.0</td>\n",
       "    </tr>\n",
       "  </tbody>\n",
       "</table>\n",
       "<p>10 rows × 22 columns</p>\n",
       "</div>"
      ],
      "text/plain": [
       "   total_images  last_price  total_area first_day_exposition  rooms  \\\n",
       "0            20  13000000.0      108.00  2019-03-07T00:00:00      3   \n",
       "1             7   3350000.0       40.40  2018-12-04T00:00:00      1   \n",
       "2            10   5196000.0       56.00  2015-08-20T00:00:00      2   \n",
       "3             0  64900000.0      159.00  2015-07-24T00:00:00      3   \n",
       "4             2  10000000.0      100.00  2018-06-19T00:00:00      2   \n",
       "5            10   2890000.0       30.40  2018-09-10T00:00:00      1   \n",
       "6             6   3700000.0       37.30  2017-11-02T00:00:00      1   \n",
       "7             5   7915000.0       71.60  2019-04-18T00:00:00      2   \n",
       "8            20   2900000.0       33.16  2018-05-23T00:00:00      1   \n",
       "9            18   5400000.0       61.00  2017-02-26T00:00:00      3   \n",
       "\n",
       "   ceiling_height  floors_total  living_area  floor is_apartment  ...  \\\n",
       "0            2.70          16.0        51.00      8          NaN  ...   \n",
       "1             NaN          11.0        18.60      1          NaN  ...   \n",
       "2             NaN           5.0        34.30      4          NaN  ...   \n",
       "3             NaN          14.0          NaN      9          NaN  ...   \n",
       "4            3.03          14.0        32.00     13          NaN  ...   \n",
       "5             NaN          12.0        14.40      5          NaN  ...   \n",
       "6             NaN          26.0        10.60      6          NaN  ...   \n",
       "7             NaN          24.0          NaN     22          NaN  ...   \n",
       "8             NaN          27.0        15.43     26          NaN  ...   \n",
       "9            2.50           9.0        43.60      7          NaN  ...   \n",
       "\n",
       "   kitchen_area  balcony              locality_name  airports_nearest  \\\n",
       "0         25.00      NaN            Санкт-Петербург           18863.0   \n",
       "1         11.00      2.0             посёлок Шушары           12817.0   \n",
       "2          8.30      0.0            Санкт-Петербург           21741.0   \n",
       "3           NaN      0.0            Санкт-Петербург           28098.0   \n",
       "4         41.00      NaN            Санкт-Петербург           31856.0   \n",
       "5          9.10      NaN  городской посёлок Янино-1               NaN   \n",
       "6         14.40      1.0          посёлок Парголово           52996.0   \n",
       "7         18.90      2.0            Санкт-Петербург           23982.0   \n",
       "8          8.81      NaN             посёлок Мурино               NaN   \n",
       "9          6.50      2.0            Санкт-Петербург           50898.0   \n",
       "\n",
       "  cityCenters_nearest  parks_around3000  parks_nearest  ponds_around3000  \\\n",
       "0             16028.0               1.0          482.0               2.0   \n",
       "1             18603.0               0.0            NaN               0.0   \n",
       "2             13933.0               1.0           90.0               2.0   \n",
       "3              6800.0               2.0           84.0               3.0   \n",
       "4              8098.0               2.0          112.0               1.0   \n",
       "5                 NaN               NaN            NaN               NaN   \n",
       "6             19143.0               0.0            NaN               0.0   \n",
       "7             11634.0               0.0            NaN               0.0   \n",
       "8                 NaN               NaN            NaN               NaN   \n",
       "9             15008.0               0.0            NaN               0.0   \n",
       "\n",
       "   ponds_nearest  days_exposition  \n",
       "0          755.0              NaN  \n",
       "1            NaN             81.0  \n",
       "2          574.0            558.0  \n",
       "3          234.0            424.0  \n",
       "4           48.0            121.0  \n",
       "5            NaN             55.0  \n",
       "6            NaN            155.0  \n",
       "7            NaN              NaN  \n",
       "8            NaN            189.0  \n",
       "9            NaN            289.0  \n",
       "\n",
       "[10 rows x 22 columns]"
      ]
     },
     "metadata": {},
     "output_type": "display_data"
    }
   ],
   "source": [
    "display (data.head(10)) "
   ]
  },
  {
   "cell_type": "code",
   "execution_count": 3,
   "metadata": {
    "scrolled": true
   },
   "outputs": [
    {
     "data": {
      "image/png": "[encoded data removed]",
      "text/plain": [
       "<Figure size 720x1080 with 20 Axes>"
      ]
     },
     "metadata": {
      "needs_background": "light"
     },
     "output_type": "display_data"
    }
   ],
   "source": [
    "#Построим гистограммы по каждому столбцу\n",
    "data.hist(figsize=(10, 15));"
   ]
  },
  {
   "attachments": {
    "image.png": {
     "image/png": "[encoded data removed]"
    }
   },
   "cell_type": "markdown",
   "metadata": {},
   "source": [
    "<div class=\"alert alert-block alert-success\">✔️\n",
    "    \n",
    "\n",
    "__Комментарий от ревьюера №1__\n",
    "Такие предупреждения можно убрать 2 способами:\n",
    "    \n",
    "1. В конец кода добавить `plt.show()`, но для этого нужно вызвать библиотеку matplotlib.pyplot as plt\n",
    "2. В конец кода добавить `;`\n",
    "    \n",
    "![image.png](attachment:image.png)\n",
    "</div>"
   ]
  },
  {
   "cell_type": "markdown",
   "metadata": {},
   "source": [
    "<div class=\"alert alert-info\"> <b>Сделано)</b> </div>"
   ]
  },
  {
   "cell_type": "code",
   "execution_count": 4,
   "metadata": {},
   "outputs": [
    {
     "data": {
      "text/html": [
       "<style  type=\"text/css\" >\n",
       "#T_e7198_row0_col0,#T_e7198_row1_col0,#T_e7198_row2_col0,#T_e7198_row3_col0,#T_e7198_row4_col0,#T_e7198_row6_col0,#T_e7198_row8_col0,#T_e7198_row10_col0,#T_e7198_row11_col0,#T_e7198_row14_col0{\n",
       "            background-color:  #3b4cc0;\n",
       "            color:  #f1f1f1;\n",
       "        }#T_e7198_row5_col0{\n",
       "            background-color:  #cdd9ec;\n",
       "            color:  #000000;\n",
       "        }#T_e7198_row7_col0{\n",
       "            background-color:  #5673e0;\n",
       "            color:  #000000;\n",
       "        }#T_e7198_row9_col0{\n",
       "            background-color:  #b40426;\n",
       "            color:  #f1f1f1;\n",
       "        }#T_e7198_row12_col0{\n",
       "            background-color:  #5e7de7;\n",
       "            color:  #000000;\n",
       "        }#T_e7198_row13_col0{\n",
       "            background-color:  #ead4c8;\n",
       "            color:  #000000;\n",
       "        }#T_e7198_row15_col0,#T_e7198_row16_col0,#T_e7198_row17_col0,#T_e7198_row19_col0{\n",
       "            background-color:  #90b2fe;\n",
       "            color:  #000000;\n",
       "        }#T_e7198_row18_col0{\n",
       "            background-color:  #f4987a;\n",
       "            color:  #000000;\n",
       "        }#T_e7198_row20_col0{\n",
       "            background-color:  #f7aa8c;\n",
       "            color:  #000000;\n",
       "        }#T_e7198_row21_col0{\n",
       "            background-color:  #688aef;\n",
       "            color:  #000000;\n",
       "        }</style><table id=\"T_e7198_\" ><thead>    <tr>        <th class=\"blank level0\" ></th>        <th class=\"col_heading level0 col0\" >0</th>    </tr></thead><tbody>\n",
       "                <tr>\n",
       "                        <th id=\"T_e7198_level0_row0\" class=\"row_heading level0 row0\" >total_images</th>\n",
       "                        <td id=\"T_e7198_row0_col0\" class=\"data row0 col0\" >0.000000</td>\n",
       "            </tr>\n",
       "            <tr>\n",
       "                        <th id=\"T_e7198_level0_row1\" class=\"row_heading level0 row1\" >last_price</th>\n",
       "                        <td id=\"T_e7198_row1_col0\" class=\"data row1 col0\" >0.000000</td>\n",
       "            </tr>\n",
       "            <tr>\n",
       "                        <th id=\"T_e7198_level0_row2\" class=\"row_heading level0 row2\" >total_area</th>\n",
       "                        <td id=\"T_e7198_row2_col0\" class=\"data row2 col0\" >0.000000</td>\n",
       "            </tr>\n",
       "            <tr>\n",
       "                        <th id=\"T_e7198_level0_row3\" class=\"row_heading level0 row3\" >first_day_exposition</th>\n",
       "                        <td id=\"T_e7198_row3_col0\" class=\"data row3 col0\" >0.000000</td>\n",
       "            </tr>\n",
       "            <tr>\n",
       "                        <th id=\"T_e7198_level0_row4\" class=\"row_heading level0 row4\" >rooms</th>\n",
       "                        <td id=\"T_e7198_row4_col0\" class=\"data row4 col0\" >0.000000</td>\n",
       "            </tr>\n",
       "            <tr>\n",
       "                        <th id=\"T_e7198_level0_row5\" class=\"row_heading level0 row5\" >ceiling_height</th>\n",
       "                        <td id=\"T_e7198_row5_col0\" class=\"data row5 col0\" >39.000000</td>\n",
       "            </tr>\n",
       "            <tr>\n",
       "                        <th id=\"T_e7198_level0_row6\" class=\"row_heading level0 row6\" >floors_total</th>\n",
       "                        <td id=\"T_e7198_row6_col0\" class=\"data row6 col0\" >0.000000</td>\n",
       "            </tr>\n",
       "            <tr>\n",
       "                        <th id=\"T_e7198_level0_row7\" class=\"row_heading level0 row7\" >living_area</th>\n",
       "                        <td id=\"T_e7198_row7_col0\" class=\"data row7 col0\" >8.000000</td>\n",
       "            </tr>\n",
       "            <tr>\n",
       "                        <th id=\"T_e7198_level0_row8\" class=\"row_heading level0 row8\" >floor</th>\n",
       "                        <td id=\"T_e7198_row8_col0\" class=\"data row8 col0\" >0.000000</td>\n",
       "            </tr>\n",
       "            <tr>\n",
       "                        <th id=\"T_e7198_level0_row9\" class=\"row_heading level0 row9\" >is_apartment</th>\n",
       "                        <td id=\"T_e7198_row9_col0\" class=\"data row9 col0\" >88.000000</td>\n",
       "            </tr>\n",
       "            <tr>\n",
       "                        <th id=\"T_e7198_level0_row10\" class=\"row_heading level0 row10\" >studio</th>\n",
       "                        <td id=\"T_e7198_row10_col0\" class=\"data row10 col0\" >0.000000</td>\n",
       "            </tr>\n",
       "            <tr>\n",
       "                        <th id=\"T_e7198_level0_row11\" class=\"row_heading level0 row11\" >open_plan</th>\n",
       "                        <td id=\"T_e7198_row11_col0\" class=\"data row11 col0\" >0.000000</td>\n",
       "            </tr>\n",
       "            <tr>\n",
       "                        <th id=\"T_e7198_level0_row12\" class=\"row_heading level0 row12\" >kitchen_area</th>\n",
       "                        <td id=\"T_e7198_row12_col0\" class=\"data row12 col0\" >10.000000</td>\n",
       "            </tr>\n",
       "            <tr>\n",
       "                        <th id=\"T_e7198_level0_row13\" class=\"row_heading level0 row13\" >balcony</th>\n",
       "                        <td id=\"T_e7198_row13_col0\" class=\"data row13 col0\" >49.000000</td>\n",
       "            </tr>\n",
       "            <tr>\n",
       "                        <th id=\"T_e7198_level0_row14\" class=\"row_heading level0 row14\" >locality_name</th>\n",
       "                        <td id=\"T_e7198_row14_col0\" class=\"data row14 col0\" >0.000000</td>\n",
       "            </tr>\n",
       "            <tr>\n",
       "                        <th id=\"T_e7198_level0_row15\" class=\"row_heading level0 row15\" >airports_nearest</th>\n",
       "                        <td id=\"T_e7198_row15_col0\" class=\"data row15 col0\" >23.000000</td>\n",
       "            </tr>\n",
       "            <tr>\n",
       "                        <th id=\"T_e7198_level0_row16\" class=\"row_heading level0 row16\" >cityCenters_nearest</th>\n",
       "                        <td id=\"T_e7198_row16_col0\" class=\"data row16 col0\" >23.000000</td>\n",
       "            </tr>\n",
       "            <tr>\n",
       "                        <th id=\"T_e7198_level0_row17\" class=\"row_heading level0 row17\" >parks_around3000</th>\n",
       "                        <td id=\"T_e7198_row17_col0\" class=\"data row17 col0\" >23.000000</td>\n",
       "            </tr>\n",
       "            <tr>\n",
       "                        <th id=\"T_e7198_level0_row18\" class=\"row_heading level0 row18\" >parks_nearest</th>\n",
       "                        <td id=\"T_e7198_row18_col0\" class=\"data row18 col0\" >66.000000</td>\n",
       "            </tr>\n",
       "            <tr>\n",
       "                        <th id=\"T_e7198_level0_row19\" class=\"row_heading level0 row19\" >ponds_around3000</th>\n",
       "                        <td id=\"T_e7198_row19_col0\" class=\"data row19 col0\" >23.000000</td>\n",
       "            </tr>\n",
       "            <tr>\n",
       "                        <th id=\"T_e7198_level0_row20\" class=\"row_heading level0 row20\" >ponds_nearest</th>\n",
       "                        <td id=\"T_e7198_row20_col0\" class=\"data row20 col0\" >62.000000</td>\n",
       "            </tr>\n",
       "            <tr>\n",
       "                        <th id=\"T_e7198_level0_row21\" class=\"row_heading level0 row21\" >days_exposition</th>\n",
       "                        <td id=\"T_e7198_row21_col0\" class=\"data row21 col0\" >13.000000</td>\n",
       "            </tr>\n",
       "    </tbody></table>"
      ],
      "text/plain": [
       "<pandas.io.formats.style.Styler at 0x7fc3284af7c0>"
      ]
     },
     "execution_count": 4,
     "metadata": {},
     "output_type": "execute_result"
    }
   ],
   "source": [
    "#Посмотрим на пропущенные значения\n",
    "pd.DataFrame(round(data.isna().mean()*100,)).style.background_gradient('coolwarm')"
   ]
  },
  {
   "cell_type": "markdown",
   "metadata": {},
   "source": [
    "**Описание данных**\n",
    "\n",
    "**airports_nearest** — расстояние до ближайшего аэропорта в метрах (м)\n",
    "\n",
    "**balcony** — число балконов\n",
    "\n",
    "**ceiling_height** — высота потолков (м)\n",
    "\n",
    "**cityCenters_nearest** — расстояние до центра города (м)\n",
    "\n",
    "**days_exposition** — сколько дней было размещено объявление (от публикации до снятия)\n",
    "\n",
    "**first_day_exposition** — дата публикации\n",
    "\n",
    "**floor** — этаж\n",
    "\n",
    "**floors_total** — всего этажей в доме\n",
    "\n",
    "**is_apartment** — апартаменты (булев тип)\n",
    "\n",
    "**kitchen_area** — площадь кухни в квадратных метрах (м²)\n",
    "\n",
    "**last_price** — цена на момент снятия с публикации\n",
    "\n",
    "**living_area** — жилая площадь в квадратных метрах (м²)\n",
    "\n",
    "**locality_name** — название населённого пункта\n",
    "\n",
    "**open_plan** — свободная планировка (булев тип)\n",
    "\n",
    "**parks_around3000** — число парков в радиусе 3 км\n",
    "\n",
    "**parks_nearest** — расстояние до ближайшего парка (м)\n",
    "\n",
    "**ponds_around3000** — число водоёмов в радиусе 3 км\n",
    "\n",
    "**ponds_nearest** — расстояние до ближайшего водоёма (м)\n",
    "\n",
    "**rooms** — число комнат\n",
    "\n",
    "**studio** — квартира-студия (булев тип)\n",
    "\n",
    "**total_area** — общая площадь квартиры в квадратных метрах (м²)\n",
    "\n",
    "**total_images** — число фотографий квартиры в объявлении\n",
    "\n",
    "**Проанализировав полученные данные, можно сделать следующие выводы:**\n",
    "\n",
    "**cityCenters_nearest** - переименовать столбец\n",
    "\n",
    "**first_day_exposition** - тип object - нужно изменить на тип datetime\n",
    "\n",
    "**floors_total** - изменить на тип int: так как количество этажей это целое число, удалим строки с Null\n",
    "\n",
    "**is_apartment** - измненить тип bool\n",
    "\n",
    "**balcony** - изменить тип int, а также нулевые значения\n",
    "\n",
    "**locality_name** - удалить строки с Null\n",
    "\n",
    "**parks_around3000** - изменить на тип int\n",
    "\n",
    "**ponds_around3000** - изменить на тип int\n",
    "\n",
    "**days_exposition** - изменить на тип int"
   ]
  },
  {
   "cell_type": "markdown",
   "metadata": {},
   "source": [
    "### Предобработка данных"
   ]
  },
  {
   "cell_type": "code",
   "execution_count": 5,
   "metadata": {},
   "outputs": [
    {
     "data": {
      "text/html": [
       "<div>\n",
       "<style scoped>\n",
       "    .dataframe tbody tr th:only-of-type {\n",
       "        vertical-align: middle;\n",
       "    }\n",
       "\n",
       "    .dataframe tbody tr th {\n",
       "        vertical-align: top;\n",
       "    }\n",
       "\n",
       "    .dataframe thead th {\n",
       "        text-align: right;\n",
       "    }\n",
       "</style>\n",
       "<table border=\"1\" class=\"dataframe\">\n",
       "  <thead>\n",
       "    <tr style=\"text-align: right;\">\n",
       "      <th></th>\n",
       "      <th>total_images</th>\n",
       "      <th>last_price</th>\n",
       "      <th>total_area</th>\n",
       "      <th>first_day_exposition</th>\n",
       "      <th>rooms</th>\n",
       "      <th>ceiling_height</th>\n",
       "      <th>floors_total</th>\n",
       "      <th>living_area</th>\n",
       "      <th>floor</th>\n",
       "      <th>is_apartment</th>\n",
       "      <th>...</th>\n",
       "      <th>kitchen_area</th>\n",
       "      <th>balcony</th>\n",
       "      <th>locality_name</th>\n",
       "      <th>airports_nearest</th>\n",
       "      <th>city_centers_nearest</th>\n",
       "      <th>parks_around3000</th>\n",
       "      <th>parks_nearest</th>\n",
       "      <th>ponds_around3000</th>\n",
       "      <th>ponds_nearest</th>\n",
       "      <th>days_exposition</th>\n",
       "    </tr>\n",
       "  </thead>\n",
       "  <tbody>\n",
       "    <tr>\n",
       "      <th>0</th>\n",
       "      <td>20</td>\n",
       "      <td>13000000.0</td>\n",
       "      <td>108.0</td>\n",
       "      <td>2019-03-07T00:00:00</td>\n",
       "      <td>3</td>\n",
       "      <td>2.70</td>\n",
       "      <td>16.0</td>\n",
       "      <td>51.0</td>\n",
       "      <td>8</td>\n",
       "      <td>NaN</td>\n",
       "      <td>...</td>\n",
       "      <td>25.0</td>\n",
       "      <td>NaN</td>\n",
       "      <td>Санкт-Петербург</td>\n",
       "      <td>18863.0</td>\n",
       "      <td>16028.0</td>\n",
       "      <td>1.0</td>\n",
       "      <td>482.0</td>\n",
       "      <td>2.0</td>\n",
       "      <td>755.0</td>\n",
       "      <td>NaN</td>\n",
       "    </tr>\n",
       "    <tr>\n",
       "      <th>1</th>\n",
       "      <td>7</td>\n",
       "      <td>3350000.0</td>\n",
       "      <td>40.4</td>\n",
       "      <td>2018-12-04T00:00:00</td>\n",
       "      <td>1</td>\n",
       "      <td>NaN</td>\n",
       "      <td>11.0</td>\n",
       "      <td>18.6</td>\n",
       "      <td>1</td>\n",
       "      <td>NaN</td>\n",
       "      <td>...</td>\n",
       "      <td>11.0</td>\n",
       "      <td>2.0</td>\n",
       "      <td>посёлок Шушары</td>\n",
       "      <td>12817.0</td>\n",
       "      <td>18603.0</td>\n",
       "      <td>0.0</td>\n",
       "      <td>NaN</td>\n",
       "      <td>0.0</td>\n",
       "      <td>NaN</td>\n",
       "      <td>81.0</td>\n",
       "    </tr>\n",
       "    <tr>\n",
       "      <th>2</th>\n",
       "      <td>10</td>\n",
       "      <td>5196000.0</td>\n",
       "      <td>56.0</td>\n",
       "      <td>2015-08-20T00:00:00</td>\n",
       "      <td>2</td>\n",
       "      <td>NaN</td>\n",
       "      <td>5.0</td>\n",
       "      <td>34.3</td>\n",
       "      <td>4</td>\n",
       "      <td>NaN</td>\n",
       "      <td>...</td>\n",
       "      <td>8.3</td>\n",
       "      <td>0.0</td>\n",
       "      <td>Санкт-Петербург</td>\n",
       "      <td>21741.0</td>\n",
       "      <td>13933.0</td>\n",
       "      <td>1.0</td>\n",
       "      <td>90.0</td>\n",
       "      <td>2.0</td>\n",
       "      <td>574.0</td>\n",
       "      <td>558.0</td>\n",
       "    </tr>\n",
       "    <tr>\n",
       "      <th>3</th>\n",
       "      <td>0</td>\n",
       "      <td>64900000.0</td>\n",
       "      <td>159.0</td>\n",
       "      <td>2015-07-24T00:00:00</td>\n",
       "      <td>3</td>\n",
       "      <td>NaN</td>\n",
       "      <td>14.0</td>\n",
       "      <td>NaN</td>\n",
       "      <td>9</td>\n",
       "      <td>NaN</td>\n",
       "      <td>...</td>\n",
       "      <td>NaN</td>\n",
       "      <td>0.0</td>\n",
       "      <td>Санкт-Петербург</td>\n",
       "      <td>28098.0</td>\n",
       "      <td>6800.0</td>\n",
       "      <td>2.0</td>\n",
       "      <td>84.0</td>\n",
       "      <td>3.0</td>\n",
       "      <td>234.0</td>\n",
       "      <td>424.0</td>\n",
       "    </tr>\n",
       "    <tr>\n",
       "      <th>4</th>\n",
       "      <td>2</td>\n",
       "      <td>10000000.0</td>\n",
       "      <td>100.0</td>\n",
       "      <td>2018-06-19T00:00:00</td>\n",
       "      <td>2</td>\n",
       "      <td>3.03</td>\n",
       "      <td>14.0</td>\n",
       "      <td>32.0</td>\n",
       "      <td>13</td>\n",
       "      <td>NaN</td>\n",
       "      <td>...</td>\n",
       "      <td>41.0</td>\n",
       "      <td>NaN</td>\n",
       "      <td>Санкт-Петербург</td>\n",
       "      <td>31856.0</td>\n",
       "      <td>8098.0</td>\n",
       "      <td>2.0</td>\n",
       "      <td>112.0</td>\n",
       "      <td>1.0</td>\n",
       "      <td>48.0</td>\n",
       "      <td>121.0</td>\n",
       "    </tr>\n",
       "  </tbody>\n",
       "</table>\n",
       "<p>5 rows × 22 columns</p>\n",
       "</div>"
      ],
      "text/plain": [
       "   total_images  last_price  total_area first_day_exposition  rooms  \\\n",
       "0            20  13000000.0       108.0  2019-03-07T00:00:00      3   \n",
       "1             7   3350000.0        40.4  2018-12-04T00:00:00      1   \n",
       "2            10   5196000.0        56.0  2015-08-20T00:00:00      2   \n",
       "3             0  64900000.0       159.0  2015-07-24T00:00:00      3   \n",
       "4             2  10000000.0       100.0  2018-06-19T00:00:00      2   \n",
       "\n",
       "   ceiling_height  floors_total  living_area  floor is_apartment  ...  \\\n",
       "0            2.70          16.0         51.0      8          NaN  ...   \n",
       "1             NaN          11.0         18.6      1          NaN  ...   \n",
       "2             NaN           5.0         34.3      4          NaN  ...   \n",
       "3             NaN          14.0          NaN      9          NaN  ...   \n",
       "4            3.03          14.0         32.0     13          NaN  ...   \n",
       "\n",
       "   kitchen_area  balcony    locality_name  airports_nearest  \\\n",
       "0          25.0      NaN  Санкт-Петербург           18863.0   \n",
       "1          11.0      2.0   посёлок Шушары           12817.0   \n",
       "2           8.3      0.0  Санкт-Петербург           21741.0   \n",
       "3           NaN      0.0  Санкт-Петербург           28098.0   \n",
       "4          41.0      NaN  Санкт-Петербург           31856.0   \n",
       "\n",
       "  city_centers_nearest  parks_around3000  parks_nearest  ponds_around3000  \\\n",
       "0              16028.0               1.0          482.0               2.0   \n",
       "1              18603.0               0.0            NaN               0.0   \n",
       "2              13933.0               1.0           90.0               2.0   \n",
       "3               6800.0               2.0           84.0               3.0   \n",
       "4               8098.0               2.0          112.0               1.0   \n",
       "\n",
       "   ponds_nearest  days_exposition  \n",
       "0          755.0              NaN  \n",
       "1            NaN             81.0  \n",
       "2          574.0            558.0  \n",
       "3          234.0            424.0  \n",
       "4           48.0            121.0  \n",
       "\n",
       "[5 rows x 22 columns]"
      ]
     },
     "execution_count": 5,
     "metadata": {},
     "output_type": "execute_result"
    }
   ],
   "source": [
    "#Переименуем столбец и посмотрим на результат\n",
    "data.rename(columns={'cityCenters_nearest' : 'city_centers_nearest'}, inplace=True)\n",
    "data.head()"
   ]
  },
  {
   "cell_type": "markdown",
   "metadata": {},
   "source": [
    "**Выполним обработку Null значений**"
   ]
  },
  {
   "cell_type": "code",
   "execution_count": 6,
   "metadata": {},
   "outputs": [
    {
     "name": "stdout",
     "output_type": "stream",
     "text": [
      "<class 'pandas.core.frame.DataFrame'>\n",
      "RangeIndex: 23699 entries, 0 to 23698\n",
      "Data columns (total 22 columns):\n",
      " #   Column                Non-Null Count  Dtype  \n",
      "---  ------                --------------  -----  \n",
      " 0   total_images          23699 non-null  int64  \n",
      " 1   last_price            23699 non-null  float64\n",
      " 2   total_area            23699 non-null  float64\n",
      " 3   first_day_exposition  23699 non-null  object \n",
      " 4   rooms                 23699 non-null  int64  \n",
      " 5   ceiling_height        14504 non-null  float64\n",
      " 6   floors_total          23699 non-null  float64\n",
      " 7   living_area           21796 non-null  float64\n",
      " 8   floor                 23699 non-null  int64  \n",
      " 9   is_apartment          23699 non-null  object \n",
      " 10  studio                23699 non-null  bool   \n",
      " 11  open_plan             23699 non-null  bool   \n",
      " 12  kitchen_area          21421 non-null  float64\n",
      " 13  balcony               23699 non-null  float64\n",
      " 14  locality_name         23650 non-null  object \n",
      " 15  airports_nearest      18157 non-null  float64\n",
      " 16  city_centers_nearest  18180 non-null  float64\n",
      " 17  parks_around3000      23699 non-null  float64\n",
      " 18  parks_nearest         8079 non-null   float64\n",
      " 19  ponds_around3000      23699 non-null  float64\n",
      " 20  ponds_nearest         9110 non-null   float64\n",
      " 21  days_exposition       23699 non-null  float64\n",
      "dtypes: bool(2), float64(14), int64(3), object(3)\n",
      "memory usage: 3.7+ MB\n"
     ]
    }
   ],
   "source": [
    "#Заменим значения Null на False, так как этот столбец имеет булев тип\n",
    "data['is_apartment'] = data['is_apartment'].fillna('False') \n",
    "\n",
    "#Заменим значения Null на 0\n",
    "data['balcony'] = data['balcony'].fillna(0)\n",
    "\n",
    "data['floors_total'] = data['floors_total'].fillna(0)\n",
    "\n",
    "data['is_apartment'] = data['is_apartment'].fillna(0)\n",
    "\n",
    "data['parks_around3000'] = data['parks_around3000'].fillna(0)\n",
    "\n",
    "data['ponds_around3000'] = data['ponds_around3000'].fillna(0)\n",
    "\n",
    "data['days_exposition'] = data['days_exposition'].fillna(0)\n",
    "\n",
    "#Удалим строки с Null\n",
    "data['floors_total'].dropna(inplace=True)\n",
    "\n",
    "data['locality_name'].dropna(inplace=True)\n",
    "\n",
    "#Посмотрим измененнные данные\n",
    "data.info()"
   ]
  },
  {
   "cell_type": "markdown",
   "metadata": {},
   "source": [
    "**Изменим типы данных**"
   ]
  },
  {
   "cell_type": "code",
   "execution_count": 7,
   "metadata": {},
   "outputs": [
    {
     "name": "stdout",
     "output_type": "stream",
     "text": [
      "<class 'pandas.core.frame.DataFrame'>\n",
      "RangeIndex: 23699 entries, 0 to 23698\n",
      "Data columns (total 23 columns):\n",
      " #   Column                Non-Null Count  Dtype         \n",
      "---  ------                --------------  -----         \n",
      " 0   total_images          23699 non-null  int64         \n",
      " 1   last_price            23699 non-null  float64       \n",
      " 2   total_area            23699 non-null  float64       \n",
      " 3   first_day_exposition  23699 non-null  datetime64[ns]\n",
      " 4   rooms                 23699 non-null  int64         \n",
      " 5   ceiling_height        14504 non-null  float64       \n",
      " 6   floors_total          23699 non-null  int64         \n",
      " 7   living_area           21796 non-null  float64       \n",
      " 8   floor                 23699 non-null  int64         \n",
      " 9   is_apartment          23699 non-null  bool          \n",
      " 10  studio                23699 non-null  bool          \n",
      " 11  open_plan             23699 non-null  bool          \n",
      " 12  kitchen_area          21421 non-null  float64       \n",
      " 13  balcony               23699 non-null  int64         \n",
      " 14  locality_name         23650 non-null  object        \n",
      " 15  airports_nearest      18157 non-null  float64       \n",
      " 16  city_centers_nearest  18180 non-null  float64       \n",
      " 17  parks_around3000      23699 non-null  int64         \n",
      " 18  parks_nearest         8079 non-null   float64       \n",
      " 19  ponds_around3000      23699 non-null  float64       \n",
      " 20  ponds_nearest         9110 non-null   float64       \n",
      " 21  days_exposition       23699 non-null  int64         \n",
      " 22  ponds_around3000      23699 non-null  int64         \n",
      "dtypes: bool(3), datetime64[ns](1), float64(10), int64(8), object(1)\n",
      "memory usage: 3.7+ MB\n"
     ]
    }
   ],
   "source": [
    "#Оставим только дату без указания времени\n",
    "data['first_day_exposition'] = pd.to_datetime(data['first_day_exposition'], format='%Y-%m-%dT')\n",
    "\n",
    "data['floors_total'] = data['floors_total'].astype('int')\n",
    "\n",
    "data['is_apartment'] = data['is_apartment'].astype('bool')\n",
    "\n",
    "data['parks_around3000'] = data['parks_around3000'].astype('int')\n",
    "\n",
    "data['ponds_around3000 '] = data['ponds_around3000'].astype('int')\n",
    "\n",
    "data['days_exposition'] = data['days_exposition'].astype('int')\n",
    "\n",
    "data['balcony'] = data['balcony'].astype('int')\n",
    "\n",
    "\n",
    "#Посмотрим измененные данные\n",
    "data.info()"
   ]
  },
  {
   "cell_type": "markdown",
   "metadata": {},
   "source": [
    "**Изучим уникальные значения столбца locality_name, выявим неявные дублиикаты и приведем к нужному нам виду**"
   ]
  },
  {
   "cell_type": "code",
   "execution_count": 8,
   "metadata": {},
   "outputs": [
    {
     "data": {
      "text/plain": [
       "array(['Санкт-Петербург', 'посёлок Шушары', 'городской посёлок Янино-1',\n",
       "       'посёлок Парголово', 'посёлок Мурино', 'Ломоносов', 'Сертолово',\n",
       "       'Петергоф', 'Пушкин', 'деревня Кудрово', 'Коммунар', 'Колпино',\n",
       "       'поселок городского типа Красный Бор', 'Гатчина', 'поселок Мурино',\n",
       "       'деревня Фёдоровское', 'Выборг', 'Кронштадт', 'Кировск',\n",
       "       'деревня Новое Девяткино', 'посёлок Металлострой',\n",
       "       'посёлок городского типа Лебяжье',\n",
       "       'посёлок городского типа Сиверский', 'поселок Молодцово',\n",
       "       'поселок городского типа Кузьмоловский',\n",
       "       'садовое товарищество Новая Ропша', 'Павловск',\n",
       "       'деревня Пикколово', 'Всеволожск', 'Волхов', 'Кингисепп',\n",
       "       'Приозерск', 'Сестрорецк', 'деревня Куттузи', 'посёлок Аннино',\n",
       "       'поселок городского типа Ефимовский', 'посёлок Плодовое',\n",
       "       'деревня Заклинье', 'поселок Торковичи', 'поселок Первомайское',\n",
       "       'Красное Село', 'посёлок Понтонный', 'Сясьстрой', 'деревня Старая',\n",
       "       'деревня Лесколово', 'посёлок Новый Свет', 'Сланцы',\n",
       "       'село Путилово', 'Ивангород', 'Мурино', 'Шлиссельбург',\n",
       "       'Никольское', 'Зеленогорск', 'Сосновый Бор', 'поселок Новый Свет',\n",
       "       'деревня Оржицы', 'деревня Кальтино', 'Кудрово',\n",
       "       'поселок Романовка', 'посёлок Бугры', 'поселок Бугры',\n",
       "       'поселок городского типа Рощино', 'Кириши', 'Луга', 'Волосово',\n",
       "       'Отрадное', 'село Павлово', 'поселок Оредеж', 'село Копорье',\n",
       "       'посёлок городского типа Красный Бор', 'посёлок Молодёжное',\n",
       "       'Тихвин', 'посёлок Победа', 'деревня Нурма',\n",
       "       'поселок городского типа Синявино', 'Тосно',\n",
       "       'посёлок городского типа Кузьмоловский', 'посёлок Стрельна',\n",
       "       'Бокситогорск', 'посёлок Александровская', 'деревня Лопухинка',\n",
       "       'Пикалёво', 'поселок Терволово',\n",
       "       'поселок городского типа Советский', 'Подпорожье',\n",
       "       'посёлок Петровское', 'посёлок городского типа Токсово',\n",
       "       'поселок Сельцо', 'посёлок городского типа Вырица',\n",
       "       'деревня Кипень', 'деревня Келози', 'деревня Вартемяги',\n",
       "       'посёлок Тельмана', 'поселок Севастьяново',\n",
       "       'городской поселок Большая Ижора', nan,\n",
       "       'городской посёлок Павлово', 'деревня Агалатово',\n",
       "       'посёлок Новогорелово', 'городской посёлок Лесогорский',\n",
       "       'деревня Лаголово', 'поселок Цвелодубово',\n",
       "       'поселок городского типа Рахья', 'поселок городского типа Вырица',\n",
       "       'деревня Белогорка', 'поселок Заводской',\n",
       "       'городской посёлок Новоселье', 'деревня Большие Колпаны',\n",
       "       'деревня Горбунки', 'деревня Батово', 'деревня Заневка',\n",
       "       'деревня Иссад', 'Приморск', 'городской посёлок Фёдоровское',\n",
       "       'деревня Мистолово', 'Новая Ладога', 'поселок Зимитицы',\n",
       "       'поселок Барышево', 'деревня Разметелево',\n",
       "       'поселок городского типа имени Свердлова', 'деревня Пеники',\n",
       "       'поселок Рябово', 'деревня Пудомяги', 'поселок станции Корнево',\n",
       "       'деревня Низино', 'деревня Бегуницы', 'посёлок Поляны',\n",
       "       'городской посёлок Мга', 'поселок Елизаветино',\n",
       "       'посёлок городского типа Кузнечное', 'деревня Колтуши',\n",
       "       'поселок Запорожское', 'посёлок городского типа Рощино',\n",
       "       'деревня Гостилицы', 'деревня Малое Карлино',\n",
       "       'посёлок Мичуринское', 'посёлок городского типа имени Морозова',\n",
       "       'посёлок Песочный', 'посёлок Сосново', 'деревня Аро',\n",
       "       'поселок Ильичёво', 'посёлок городского типа Тайцы',\n",
       "       'деревня Малое Верево', 'деревня Извара', 'поселок станции Вещево',\n",
       "       'село Паша', 'деревня Калитино',\n",
       "       'посёлок городского типа Ульяновка', 'деревня Чудской Бор',\n",
       "       'поселок городского типа Дубровка', 'деревня Мины',\n",
       "       'поселок Войсковицы', 'посёлок городского типа имени Свердлова',\n",
       "       'деревня Коркино', 'посёлок Ропша',\n",
       "       'поселок городского типа Приладожский', 'посёлок Щеглово',\n",
       "       'посёлок Гаврилово', 'Лодейное Поле', 'деревня Рабитицы',\n",
       "       'поселок городского типа Никольский', 'деревня Кузьмолово',\n",
       "       'деревня Малые Колпаны', 'поселок Тельмана',\n",
       "       'посёлок Петро-Славянка', 'городской посёлок Назия',\n",
       "       'посёлок Репино', 'посёлок Ильичёво', 'поселок Углово',\n",
       "       'поселок Старая Малукса', 'садовое товарищество Рахья',\n",
       "       'поселок Аннино', 'поселок Победа', 'деревня Меньково',\n",
       "       'деревня Старые Бегуницы', 'посёлок Сапёрный', 'поселок Семрино',\n",
       "       'поселок Гаврилово', 'поселок Глажево', 'поселок Кобринское',\n",
       "       'деревня Гарболово', 'деревня Юкки',\n",
       "       'поселок станции Приветнинское', 'деревня Мануйлово',\n",
       "       'деревня Пчева', 'поселок Поляны', 'поселок Цвылёво',\n",
       "       'поселок Мельниково', 'посёлок Пудость', 'посёлок Усть-Луга',\n",
       "       'Светогорск', 'Любань', 'поселок Селезнёво',\n",
       "       'поселок городского типа Рябово', 'Каменногорск', 'деревня Кривко',\n",
       "       'поселок Глебычево', 'деревня Парицы', 'поселок Жилпосёлок',\n",
       "       'посёлок городского типа Мга', 'городской поселок Янино-1',\n",
       "       'посёлок Войскорово', 'село Никольское', 'посёлок Терволово',\n",
       "       'поселок Стеклянный', 'посёлок городского типа Важины',\n",
       "       'посёлок Мыза-Ивановка', 'село Русско-Высоцкое',\n",
       "       'поселок городского типа Лебяжье',\n",
       "       'поселок городского типа Форносово', 'село Старая Ладога',\n",
       "       'поселок Житково', 'городской посёлок Виллози', 'деревня Лампово',\n",
       "       'деревня Шпаньково', 'деревня Лаврики', 'посёлок Сумино',\n",
       "       'посёлок Возрождение', 'деревня Старосиверская',\n",
       "       'посёлок Кикерино', 'поселок Возрождение',\n",
       "       'деревня Старое Хинколово', 'посёлок Пригородный',\n",
       "       'посёлок Торфяное', 'городской посёлок Будогощь',\n",
       "       'поселок Суходолье', 'поселок Красная Долина', 'деревня Хапо-Ое',\n",
       "       'поселок городского типа Дружная Горка', 'поселок Лисий Нос',\n",
       "       'деревня Яльгелево', 'посёлок Стеклянный', 'село Рождествено',\n",
       "       'деревня Старополье', 'посёлок Левашово', 'деревня Сяськелево',\n",
       "       'деревня Камышовка',\n",
       "       'садоводческое некоммерческое товарищество Лесная Поляна',\n",
       "       'деревня Хязельки', 'поселок Жилгородок',\n",
       "       'посёлок городского типа Павлово', 'деревня Ялгино',\n",
       "       'поселок Новый Учхоз', 'городской посёлок Рощино',\n",
       "       'поселок Гончарово', 'поселок Почап', 'посёлок Сапёрное',\n",
       "       'посёлок Платформа 69-й километр', 'поселок Каложицы',\n",
       "       'деревня Фалилеево', 'деревня Пельгора',\n",
       "       'поселок городского типа Лесогорский', 'деревня Торошковичи',\n",
       "       'посёлок Белоостров', 'посёлок Алексеевка', 'поселок Серебрянский',\n",
       "       'поселок Лукаши', 'поселок Петровское', 'деревня Щеглово',\n",
       "       'поселок Мичуринское', 'деревня Тарасово', 'поселок Кингисеппский',\n",
       "       'посёлок при железнодорожной станции Вещево', 'поселок Ушаки',\n",
       "       'деревня Котлы', 'деревня Сижно', 'деревня Торосово',\n",
       "       'посёлок Форт Красная Горка', 'поселок городского типа Токсово',\n",
       "       'деревня Новолисино', 'посёлок станции Громово', 'деревня Глинка',\n",
       "       'посёлок Мельниково', 'поселок городского типа Назия',\n",
       "       'деревня Старая Пустошь', 'поселок Коммунары', 'поселок Починок',\n",
       "       'посёлок городского типа Вознесенье', 'деревня Разбегаево',\n",
       "       'посёлок городского типа Рябово', 'поселок Гладкое',\n",
       "       'посёлок при железнодорожной станции Приветнинское',\n",
       "       'поселок Тёсово-4', 'посёлок Жилгородок', 'деревня Бор',\n",
       "       'посёлок Коробицыно', 'деревня Большая Вруда', 'деревня Курковицы',\n",
       "       'посёлок Лисий Нос', 'городской посёлок Советский',\n",
       "       'посёлок Кобралово', 'деревня Суоранда', 'поселок Кобралово',\n",
       "       'поселок городского типа Кондратьево',\n",
       "       'коттеджный поселок Счастье', 'поселок Любань', 'деревня Реброво',\n",
       "       'деревня Зимитицы', 'деревня Тойворово', 'поселок Семиозерье',\n",
       "       'поселок Лесное', 'поселок Совхозный', 'поселок Усть-Луга',\n",
       "       'посёлок Ленинское', 'посёлок Суйда',\n",
       "       'посёлок городского типа Форносово', 'деревня Нижние Осельки',\n",
       "       'посёлок станции Свирь', 'поселок Перово', 'Высоцк',\n",
       "       'поселок Гарболово', 'село Шум', 'поселок Котельский',\n",
       "       'поселок станции Лужайка', 'деревня Большая Пустомержа',\n",
       "       'поселок Красносельское', 'деревня Вахнова Кара', 'деревня Пижма',\n",
       "       'коттеджный поселок Кивеннапа Север', 'поселок Коробицыно',\n",
       "       'поселок Ромашки', 'посёлок Перово', 'деревня Каськово',\n",
       "       'деревня Куровицы', 'посёлок Плоское', 'поселок Сумино',\n",
       "       'поселок городского типа Большая Ижора', 'поселок Кирпичное',\n",
       "       'деревня Ям-Тесово', 'деревня Раздолье', 'деревня Терпилицы',\n",
       "       'посёлок Шугозеро', 'деревня Ваганово', 'поселок Пушное',\n",
       "       'садовое товарищество Садко', 'посёлок Усть-Ижора',\n",
       "       'деревня Выскатка', 'городской посёлок Свирьстрой',\n",
       "       'поселок Громово', 'деревня Кисельня', 'посёлок Старая Малукса',\n",
       "       'деревня Трубников Бор', 'поселок Калитино',\n",
       "       'посёлок Высокоключевой', 'садовое товарищество Приладожский',\n",
       "       'посёлок Пансионат Зелёный Бор', 'деревня Ненимяки',\n",
       "       'поселок Пансионат Зелёный Бор', 'деревня Снегирёвка',\n",
       "       'деревня Рапполово', 'деревня Пустынка', 'поселок Рабитицы',\n",
       "       'деревня Большой Сабск', 'деревня Русско', 'деревня Лупполово',\n",
       "       'деревня Большое Рейзино', 'деревня Малая Романовка',\n",
       "       'поселок Дружноселье', 'поселок Пчевжа', 'поселок Володарское',\n",
       "       'деревня Нижняя', 'коттеджный посёлок Лесное', 'деревня Тихковицы',\n",
       "       'деревня Борисова Грива', 'посёлок Дзержинского'], dtype=object)"
      ]
     },
     "execution_count": 8,
     "metadata": {},
     "output_type": "execute_result"
    }
   ],
   "source": [
    "data['locality_name'].unique()"
   ]
  },
  {
   "cell_type": "markdown",
   "metadata": {},
   "source": [
    "**План дальнейших действий:**\n",
    "\n",
    "1) Приведем всё к одному регистру;\n",
    "\n",
    "2) Заменим 'ё' на 'е';\n",
    "\n",
    "3) 'Городской поселок' заменим на 'поселок городского типа';\n",
    "\n",
    "4) Проверим на наличие дубликатов.\n",
    "\n"
   ]
  },
  {
   "cell_type": "code",
   "execution_count": 9,
   "metadata": {},
   "outputs": [
    {
     "data": {
      "text/plain": [
       "0"
      ]
     },
     "execution_count": 9,
     "metadata": {},
     "output_type": "execute_result"
    }
   ],
   "source": [
    "#Приведём всё к одному регистру\n",
    "data['locality_name'] = data['locality_name'].str.lower()\n",
    "\n",
    "#Заменим 'ё' на 'е'\n",
    "data['locality_name'] = data['locality_name'].str.replace('ё', 'е')\n",
    "\n",
    "#'Городской поселок' заменим на 'поселок городского типа'\n",
    "data['locality_name'] = data['locality_name'].str.replace('городской поселок','поселок городского типа')\n",
    "\n",
    "#Проверим на наличие дубликатов\n",
    "data.duplicated().sum()"
   ]
  },
  {
   "cell_type": "markdown",
   "metadata": {},
   "source": [
    "**Найдем редкие и неправдопобные значения в столбцах.**"
   ]
  },
  {
   "cell_type": "code",
   "execution_count": 10,
   "metadata": {},
   "outputs": [
    {
     "data": {
      "text/html": [
       "<div>\n",
       "<style scoped>\n",
       "    .dataframe tbody tr th:only-of-type {\n",
       "        vertical-align: middle;\n",
       "    }\n",
       "\n",
       "    .dataframe tbody tr th {\n",
       "        vertical-align: top;\n",
       "    }\n",
       "\n",
       "    .dataframe thead th {\n",
       "        text-align: right;\n",
       "    }\n",
       "</style>\n",
       "<table border=\"1\" class=\"dataframe\">\n",
       "  <thead>\n",
       "    <tr style=\"text-align: right;\">\n",
       "      <th></th>\n",
       "      <th>total_images</th>\n",
       "      <th>last_price</th>\n",
       "      <th>total_area</th>\n",
       "      <th>rooms</th>\n",
       "      <th>ceiling_height</th>\n",
       "      <th>floors_total</th>\n",
       "      <th>living_area</th>\n",
       "      <th>floor</th>\n",
       "      <th>kitchen_area</th>\n",
       "      <th>balcony</th>\n",
       "      <th>airports_nearest</th>\n",
       "      <th>city_centers_nearest</th>\n",
       "      <th>parks_around3000</th>\n",
       "      <th>parks_nearest</th>\n",
       "      <th>ponds_around3000</th>\n",
       "      <th>ponds_nearest</th>\n",
       "      <th>days_exposition</th>\n",
       "      <th>ponds_around3000</th>\n",
       "    </tr>\n",
       "  </thead>\n",
       "  <tbody>\n",
       "    <tr>\n",
       "      <th>count</th>\n",
       "      <td>23699.000000</td>\n",
       "      <td>2.369900e+04</td>\n",
       "      <td>23699.000000</td>\n",
       "      <td>23699.000000</td>\n",
       "      <td>14504.000000</td>\n",
       "      <td>23699.000000</td>\n",
       "      <td>21796.000000</td>\n",
       "      <td>23699.000000</td>\n",
       "      <td>21421.000000</td>\n",
       "      <td>23699.000000</td>\n",
       "      <td>18157.000000</td>\n",
       "      <td>18180.000000</td>\n",
       "      <td>23699.000000</td>\n",
       "      <td>8079.000000</td>\n",
       "      <td>23699.000000</td>\n",
       "      <td>9110.000000</td>\n",
       "      <td>23699.000000</td>\n",
       "      <td>23699.000000</td>\n",
       "    </tr>\n",
       "    <tr>\n",
       "      <th>mean</th>\n",
       "      <td>9.858475</td>\n",
       "      <td>6.541549e+06</td>\n",
       "      <td>60.348651</td>\n",
       "      <td>2.070636</td>\n",
       "      <td>2.771499</td>\n",
       "      <td>10.635090</td>\n",
       "      <td>34.457852</td>\n",
       "      <td>5.892358</td>\n",
       "      <td>10.569807</td>\n",
       "      <td>0.591080</td>\n",
       "      <td>28793.672193</td>\n",
       "      <td>14191.277833</td>\n",
       "      <td>0.469049</td>\n",
       "      <td>490.804555</td>\n",
       "      <td>0.590911</td>\n",
       "      <td>517.980900</td>\n",
       "      <td>156.608844</td>\n",
       "      <td>0.590911</td>\n",
       "    </tr>\n",
       "    <tr>\n",
       "      <th>std</th>\n",
       "      <td>5.682529</td>\n",
       "      <td>1.088701e+07</td>\n",
       "      <td>35.654083</td>\n",
       "      <td>1.078405</td>\n",
       "      <td>1.261056</td>\n",
       "      <td>6.616396</td>\n",
       "      <td>22.030445</td>\n",
       "      <td>4.885249</td>\n",
       "      <td>5.905438</td>\n",
       "      <td>0.959298</td>\n",
       "      <td>12630.880622</td>\n",
       "      <td>8608.386210</td>\n",
       "      <td>0.748534</td>\n",
       "      <td>342.317995</td>\n",
       "      <td>0.883999</td>\n",
       "      <td>277.720643</td>\n",
       "      <td>213.546873</td>\n",
       "      <td>0.883999</td>\n",
       "    </tr>\n",
       "    <tr>\n",
       "      <th>min</th>\n",
       "      <td>0.000000</td>\n",
       "      <td>1.219000e+04</td>\n",
       "      <td>12.000000</td>\n",
       "      <td>0.000000</td>\n",
       "      <td>1.000000</td>\n",
       "      <td>0.000000</td>\n",
       "      <td>2.000000</td>\n",
       "      <td>1.000000</td>\n",
       "      <td>1.300000</td>\n",
       "      <td>0.000000</td>\n",
       "      <td>0.000000</td>\n",
       "      <td>181.000000</td>\n",
       "      <td>0.000000</td>\n",
       "      <td>1.000000</td>\n",
       "      <td>0.000000</td>\n",
       "      <td>13.000000</td>\n",
       "      <td>0.000000</td>\n",
       "      <td>0.000000</td>\n",
       "    </tr>\n",
       "    <tr>\n",
       "      <th>25%</th>\n",
       "      <td>6.000000</td>\n",
       "      <td>3.400000e+06</td>\n",
       "      <td>40.000000</td>\n",
       "      <td>1.000000</td>\n",
       "      <td>2.520000</td>\n",
       "      <td>5.000000</td>\n",
       "      <td>18.600000</td>\n",
       "      <td>2.000000</td>\n",
       "      <td>7.000000</td>\n",
       "      <td>0.000000</td>\n",
       "      <td>18585.000000</td>\n",
       "      <td>9238.000000</td>\n",
       "      <td>0.000000</td>\n",
       "      <td>288.000000</td>\n",
       "      <td>0.000000</td>\n",
       "      <td>294.000000</td>\n",
       "      <td>22.000000</td>\n",
       "      <td>0.000000</td>\n",
       "    </tr>\n",
       "    <tr>\n",
       "      <th>50%</th>\n",
       "      <td>9.000000</td>\n",
       "      <td>4.650000e+06</td>\n",
       "      <td>52.000000</td>\n",
       "      <td>2.000000</td>\n",
       "      <td>2.650000</td>\n",
       "      <td>9.000000</td>\n",
       "      <td>30.000000</td>\n",
       "      <td>4.000000</td>\n",
       "      <td>9.100000</td>\n",
       "      <td>0.000000</td>\n",
       "      <td>26726.000000</td>\n",
       "      <td>13098.500000</td>\n",
       "      <td>0.000000</td>\n",
       "      <td>455.000000</td>\n",
       "      <td>0.000000</td>\n",
       "      <td>502.000000</td>\n",
       "      <td>74.000000</td>\n",
       "      <td>0.000000</td>\n",
       "    </tr>\n",
       "    <tr>\n",
       "      <th>75%</th>\n",
       "      <td>14.000000</td>\n",
       "      <td>6.800000e+06</td>\n",
       "      <td>69.900000</td>\n",
       "      <td>3.000000</td>\n",
       "      <td>2.800000</td>\n",
       "      <td>16.000000</td>\n",
       "      <td>42.300000</td>\n",
       "      <td>8.000000</td>\n",
       "      <td>12.000000</td>\n",
       "      <td>1.000000</td>\n",
       "      <td>37273.000000</td>\n",
       "      <td>16293.000000</td>\n",
       "      <td>1.000000</td>\n",
       "      <td>612.000000</td>\n",
       "      <td>1.000000</td>\n",
       "      <td>729.000000</td>\n",
       "      <td>199.000000</td>\n",
       "      <td>1.000000</td>\n",
       "    </tr>\n",
       "    <tr>\n",
       "      <th>max</th>\n",
       "      <td>50.000000</td>\n",
       "      <td>7.630000e+08</td>\n",
       "      <td>900.000000</td>\n",
       "      <td>19.000000</td>\n",
       "      <td>100.000000</td>\n",
       "      <td>60.000000</td>\n",
       "      <td>409.700000</td>\n",
       "      <td>33.000000</td>\n",
       "      <td>112.000000</td>\n",
       "      <td>5.000000</td>\n",
       "      <td>84869.000000</td>\n",
       "      <td>65968.000000</td>\n",
       "      <td>3.000000</td>\n",
       "      <td>3190.000000</td>\n",
       "      <td>3.000000</td>\n",
       "      <td>1344.000000</td>\n",
       "      <td>1580.000000</td>\n",
       "      <td>3.000000</td>\n",
       "    </tr>\n",
       "  </tbody>\n",
       "</table>\n",
       "</div>"
      ],
      "text/plain": [
       "       total_images    last_price    total_area         rooms  ceiling_height  \\\n",
       "count  23699.000000  2.369900e+04  23699.000000  23699.000000    14504.000000   \n",
       "mean       9.858475  6.541549e+06     60.348651      2.070636        2.771499   \n",
       "std        5.682529  1.088701e+07     35.654083      1.078405        1.261056   \n",
       "min        0.000000  1.219000e+04     12.000000      0.000000        1.000000   \n",
       "25%        6.000000  3.400000e+06     40.000000      1.000000        2.520000   \n",
       "50%        9.000000  4.650000e+06     52.000000      2.000000        2.650000   \n",
       "75%       14.000000  6.800000e+06     69.900000      3.000000        2.800000   \n",
       "max       50.000000  7.630000e+08    900.000000     19.000000      100.000000   \n",
       "\n",
       "       floors_total   living_area         floor  kitchen_area       balcony  \\\n",
       "count  23699.000000  21796.000000  23699.000000  21421.000000  23699.000000   \n",
       "mean      10.635090     34.457852      5.892358     10.569807      0.591080   \n",
       "std        6.616396     22.030445      4.885249      5.905438      0.959298   \n",
       "min        0.000000      2.000000      1.000000      1.300000      0.000000   \n",
       "25%        5.000000     18.600000      2.000000      7.000000      0.000000   \n",
       "50%        9.000000     30.000000      4.000000      9.100000      0.000000   \n",
       "75%       16.000000     42.300000      8.000000     12.000000      1.000000   \n",
       "max       60.000000    409.700000     33.000000    112.000000      5.000000   \n",
       "\n",
       "       airports_nearest  city_centers_nearest  parks_around3000  \\\n",
       "count      18157.000000          18180.000000      23699.000000   \n",
       "mean       28793.672193          14191.277833          0.469049   \n",
       "std        12630.880622           8608.386210          0.748534   \n",
       "min            0.000000            181.000000          0.000000   \n",
       "25%        18585.000000           9238.000000          0.000000   \n",
       "50%        26726.000000          13098.500000          0.000000   \n",
       "75%        37273.000000          16293.000000          1.000000   \n",
       "max        84869.000000          65968.000000          3.000000   \n",
       "\n",
       "       parks_nearest  ponds_around3000  ponds_nearest  days_exposition  \\\n",
       "count    8079.000000      23699.000000    9110.000000     23699.000000   \n",
       "mean      490.804555          0.590911     517.980900       156.608844   \n",
       "std       342.317995          0.883999     277.720643       213.546873   \n",
       "min         1.000000          0.000000      13.000000         0.000000   \n",
       "25%       288.000000          0.000000     294.000000        22.000000   \n",
       "50%       455.000000          0.000000     502.000000        74.000000   \n",
       "75%       612.000000          1.000000     729.000000       199.000000   \n",
       "max      3190.000000          3.000000    1344.000000      1580.000000   \n",
       "\n",
       "       ponds_around3000   \n",
       "count       23699.000000  \n",
       "mean            0.590911  \n",
       "std             0.883999  \n",
       "min             0.000000  \n",
       "25%             0.000000  \n",
       "50%             0.000000  \n",
       "75%             1.000000  \n",
       "max             3.000000  "
      ]
     },
     "execution_count": 10,
     "metadata": {},
     "output_type": "execute_result"
    }
   ],
   "source": [
    "data.describe()"
   ]
  },
  {
   "cell_type": "markdown",
   "metadata": {},
   "source": [
    "**Изучим каждый из столбцов**\n",
    "\n",
    "**total_images** - значения в норме, максимальное количество фото 50, вполне вероятно, почему бы и нет?\n",
    "\n",
    "**last_price** - проведем анализ стоимости квартир.\n"
   ]
  },
  {
   "cell_type": "code",
   "execution_count": 11,
   "metadata": {},
   "outputs": [
    {
     "name": "stdout",
     "output_type": "stream",
     "text": [
      "Бесплатные квартиры: 0\n",
      "Квартиры стоимостью меньше 100.000: 1\n",
      "Квартиры стоимостью больше 100.000.000: 37\n"
     ]
    }
   ],
   "source": [
    "print('Бесплатные квартиры:', data.query('last_price == 0')['last_price'].count())\n",
    "\n",
    "print('Квартиры стоимостью меньше 100.000:', data.query('last_price < 1e+05')['last_price'].count())\n",
    "\n",
    "print('Квартиры стоимостью больше 100.000.000:', data.query('last_price > 1e+08')['last_price'].count())\n"
   ]
  },
  {
   "cell_type": "code",
   "execution_count": 12,
   "metadata": {},
   "outputs": [],
   "source": [
    "#Избавимся от выбросов в виде слишком дешёвой квартиры и квартир, стоимость которых превышает 100млн\n",
    "\n",
    "data.drop(index=data.query('last_price > 1e+08').index,inplace=True)\n",
    "\n",
    "data.drop(index=data.query('last_price < 1e+05').index,inplace=True)"
   ]
  },
  {
   "cell_type": "markdown",
   "metadata": {},
   "source": [
    "**total_area** - посмотрим на квартиры, площади которых более 500 кв.м. Если их немного, то удалим значения, чтобы они не сказались на нашем анализе."
   ]
  },
  {
   "cell_type": "code",
   "execution_count": 13,
   "metadata": {},
   "outputs": [
    {
     "name": "stdout",
     "output_type": "stream",
     "text": [
      "Площадь более 500 кв.м.: 3\n"
     ]
    },
    {
     "data": {
      "image/png": "[encoded data removed]",
      "text/plain": [
       "<Figure size 432x288 with 1 Axes>"
      ]
     },
     "metadata": {
      "needs_background": "light"
     },
     "output_type": "display_data"
    }
   ],
   "source": [
    "print('Площадь более 500 кв.м.:',data.query('total_area > 500')['total_area'].count())\n",
    "\n",
    "data.hist('total_area', bins=50, range=(0,300));\n"
   ]
  },
  {
   "cell_type": "code",
   "execution_count": 14,
   "metadata": {},
   "outputs": [],
   "source": [
    "data.drop(index=data.query('total_area > 500').index,inplace=True)"
   ]
  },
  {
   "cell_type": "markdown",
   "metadata": {},
   "source": [
    "Рассмотрим столбец **rooms**. Есть минимальные значения, изучим их детальнее. Также смущает квартира, в которой 19 комнат. Такое возможно, конечно, но лучше удалим квартиры, количество комнат которых превышает число 7. "
   ]
  },
  {
   "cell_type": "code",
   "execution_count": 15,
   "metadata": {},
   "outputs": [
    {
     "name": "stdout",
     "output_type": "stream",
     "text": [
      "Квартиры без комнат: 197\n",
      "Квартиры без комнат и свободная планировка: 59\n",
      "Квартиры без комнат и студии: 138\n"
     ]
    }
   ],
   "source": [
    "#Возможно, что нулевое количество комнат это свободная планировка или студия, проверим эту гипотезу\n",
    "\n",
    "print('Квартиры без комнат:',data.query('rooms == 0')['rooms'].count()) \n",
    "\n",
    "print('Квартиры без комнат и свободная планировка:',data.query('rooms == 0 and open_plan')['rooms'].count())\n",
    "\n",
    "print('Квартиры без комнат и студии:',data.query('rooms == 0 and studio')['rooms'].count()) \n",
    "\n",
    "data.drop(index=data.query('rooms > 7').index,inplace=True)\n"
   ]
  },
  {
   "cell_type": "markdown",
   "metadata": {},
   "source": [
    "Данные сошлись. \n",
    "\n",
    "Приступим к изучению столбца **ceiling_height**.\n",
    "\n"
   ]
  },
  {
   "cell_type": "code",
   "execution_count": 16,
   "metadata": {},
   "outputs": [
    {
     "name": "stdout",
     "output_type": "stream",
     "text": [
      "Потолки от 4 до 5м: 36\n",
      "Потолки от 5 до 25м: 14\n",
      "Потолки от 25м до 36м: 19\n",
      "Потолки от 36м до 50м: 0\n",
      "Потолки от 50м: 1\n"
     ]
    }
   ],
   "source": [
    "print('Потолки от 4 до 5м: ' + str(data.query('ceiling_height > 4 and ceiling_height <= 5')['ceiling_height'].count()))\n",
    "\n",
    "print('Потолки от 5 до 25м: ' + str(data.query('ceiling_height > 5 and ceiling_height < 25')['ceiling_height'].count()))\n",
    "\n",
    "print('Потолки от 25м до 36м: ' + str(data.query('ceiling_height >= 25 and ceiling_height <= 36')['ceiling_height'].count()))\n",
    "\n",
    "print('Потолки от 36м до 50м: ' + str(data.query('ceiling_height > 36 and ceiling_height < 50')['ceiling_height'].count()))\n",
    "\n",
    "print('Потолки от 50м: ' + str(data.query('ceiling_height >= 50')['ceiling_height'].count()))"
   ]
  },
  {
   "cell_type": "markdown",
   "metadata": {},
   "source": [
    "В соответствии с нормативом, в самых теплых зонах потолок должен располагаться на высоте не менее 2.7 метра, а для остальных районов минимальная высота потолка составляет 2.5 метра.\n",
    "Максимальная высота потолков нормативными документами не оговаривается, но на практике потолок редко поднимают выше 3.2 метра. В зданиях старой постройки размеры помещений могут быть увеличены, в результате чего высота потолка может превысить отметку в 4 метра. \n",
    "\n",
    "Предположим, что квартиры с высотой потолков 25-36 метров являются опечаткой и соотвествуют значениям 2.5-3.6 метра.\n",
    "\n",
    "Основываясь на предыдущем предположении, решим, что все квартиры с высотой потолков от 36 метров являются выбросами.\n",
    "\n",
    "Также есть одно значение, которое показывает высоту потолков выше 50 метров.\n",
    "\n",
    "Наши дальнейшие действия:\n",
    "\n",
    "Удалим квартиры, высота потолков которых от 4 до 25 метров.\n",
    "Потолки от 25 до 36 метров мы изменим на более реальные значения, для этого разделим на 10, получим 2.5 и 3.6 метра.\n",
    "Удаляем квартиры с высотой потолков от 36 метров."
   ]
  },
  {
   "cell_type": "code",
   "execution_count": 17,
   "metadata": {},
   "outputs": [],
   "source": [
    "data.drop(index=data.query('ceiling_height > 4 and ceiling_height < 25').index,inplace=True)\n",
    "\n",
    "data.update(data[(data['ceiling_height'] >= 25) & (data['ceiling_height'] <= 36)]['ceiling_height']/10)\n",
    "\n",
    "data.drop(index=data.query('ceiling_height > 36').index,inplace=True)"
   ]
  },
  {
   "cell_type": "markdown",
   "metadata": {},
   "source": [
    "Рассмотрим потолки, высота которых менее 2.5 метра"
   ]
  },
  {
   "cell_type": "code",
   "execution_count": 18,
   "metadata": {},
   "outputs": [
    {
     "data": {
      "image/png": "[encoded data removed]",
      "text/plain": [
       "<Figure size 432x288 with 1 Axes>"
      ]
     },
     "metadata": {
      "needs_background": "light"
     },
     "output_type": "display_data"
    }
   ],
   "source": [
    "data.hist('ceiling_height',bins=50,range=(0,4));"
   ]
  },
  {
   "cell_type": "code",
   "execution_count": 19,
   "metadata": {},
   "outputs": [],
   "source": [
    "#Удалим квартиры, высота потолков которых менее 2.5 метра\n",
    "\n",
    "data.drop(index=data.query('ceiling_height < 2.5').index,inplace=True)"
   ]
  },
  {
   "cell_type": "markdown",
   "metadata": {},
   "source": [
    "**floors_total** - Есть одноэтажные квартиры, но это не похоже на выброс. Так же есть небольшое количество квартир в 30 и более этажных домах."
   ]
  },
  {
   "cell_type": "code",
   "execution_count": 20,
   "metadata": {},
   "outputs": [
    {
     "data": {
      "image/png": "[encoded data removed]",
      "text/plain": [
       "<Figure size 432x288 with 1 Axes>"
      ]
     },
     "metadata": {
      "needs_background": "light"
     },
     "output_type": "display_data"
    }
   ],
   "source": [
    "data.hist('floors_total', bins=40);"
   ]
  },
  {
   "cell_type": "markdown",
   "metadata": {},
   "source": [
    "Рассмотрим столбец **living_area**, в котором хранятся данные о размере жилой площади в квартире. "
   ]
  },
  {
   "cell_type": "code",
   "execution_count": 21,
   "metadata": {},
   "outputs": [
    {
     "name": "stdout",
     "output_type": "stream",
     "text": [
      "Жилая площадь меньше 10 кв.м.:  25\n",
      "Жилая площадь больше 200 кв.м.:  12\n"
     ]
    }
   ],
   "source": [
    "print('Жилая площадь меньше 10 кв.м.: ',data.query('living_area < 10')['living_area'].count())\n",
    "\n",
    "print('Жилая площадь больше 200 кв.м.: ',data.query('living_area > 200')['living_area'].count())"
   ]
  },
  {
   "cell_type": "code",
   "execution_count": 22,
   "metadata": {},
   "outputs": [
    {
     "data": {
      "image/png": "[encoded data removed]",
      "text/plain": [
       "<Figure size 432x288 with 1 Axes>"
      ]
     },
     "metadata": {
      "needs_background": "light"
     },
     "output_type": "display_data"
    }
   ],
   "source": [
    "#Удалим эти значения, так как для наших данных они являются выбросами\n",
    "\n",
    "data.drop(index=data.query('living_area < 10').index,inplace=True)\n",
    "\n",
    "data.drop(index=data.query('living_area > 200').index,inplace=True)\n",
    "\n",
    "data.hist('living_area', bins=60);"
   ]
  },
  {
   "cell_type": "markdown",
   "metadata": {},
   "source": [
    "Посмотрим на столбец **floor**, который показывает, на каком этаже находится квартира."
   ]
  },
  {
   "cell_type": "code",
   "execution_count": 23,
   "metadata": {},
   "outputs": [
    {
     "data": {
      "image/png": "[encoded data removed]",
      "text/plain": [
       "<Figure size 432x288 with 1 Axes>"
      ]
     },
     "metadata": {
      "needs_background": "light"
     },
     "output_type": "display_data"
    }
   ],
   "source": [
    "data.hist('floor',bins=20);"
   ]
  },
  {
   "cell_type": "markdown",
   "metadata": {},
   "source": [
    "Распределение хорошее, оставляем всё как есть."
   ]
  },
  {
   "cell_type": "markdown",
   "metadata": {},
   "source": [
    "Проанализируем столбец **kitchen_area**, в котором содержатся значения площади кухни."
   ]
  },
  {
   "cell_type": "code",
   "execution_count": 24,
   "metadata": {},
   "outputs": [
    {
     "name": "stdout",
     "output_type": "stream",
     "text": [
      "Площадь кухни меньше 2 кв.м.:  1\n",
      "Площадь кухни 5 кв.м.:  351\n",
      "Площадь кухни больше 50 кв.м.:  33\n"
     ]
    },
    {
     "data": {
      "image/png": "[encoded data removed]",
      "text/plain": [
       "<Figure size 432x288 with 1 Axes>"
      ]
     },
     "metadata": {
      "needs_background": "light"
     },
     "output_type": "display_data"
    }
   ],
   "source": [
    "print('Площадь кухни меньше 2 кв.м.: ',data.query('kitchen_area < 2')['living_area'].count())\n",
    "\n",
    "print('Площадь кухни 5 кв.м.: ',data.query('kitchen_area == 5')['living_area'].count())\n",
    "\n",
    "print('Площадь кухни больше 50 кв.м.: ',data.query('kitchen_area > 50')['living_area'].count())\n",
    "\n",
    "data.hist('kitchen_area', bins=50);"
   ]
  },
  {
   "cell_type": "markdown",
   "metadata": {},
   "source": [
    "Удалим строки с площадью кухни менее 2 кв.м. и более 50 кв.м."
   ]
  },
  {
   "cell_type": "code",
   "execution_count": 25,
   "metadata": {},
   "outputs": [],
   "source": [
    "data.drop(index=data.query('kitchen_area < 2').index,inplace=True)\n",
    "\n",
    "data.drop(index=data.query('kitchen_area > 50').index,inplace=True)"
   ]
  },
  {
   "cell_type": "markdown",
   "metadata": {},
   "source": [
    "Посмотрим на столбец **balcony**."
   ]
  },
  {
   "cell_type": "code",
   "execution_count": 26,
   "metadata": {},
   "outputs": [
    {
     "data": {
      "image/png": "[encoded data removed]",
      "text/plain": [
       "<Figure size 432x288 with 1 Axes>"
      ]
     },
     "metadata": {
      "needs_background": "light"
     },
     "output_type": "display_data"
    }
   ],
   "source": [
    "data.hist('balcony', bins=6);"
   ]
  },
  {
   "cell_type": "markdown",
   "metadata": {},
   "source": [
    "Распределение выглядит хорошо."
   ]
  },
  {
   "cell_type": "markdown",
   "metadata": {},
   "source": [
    "**days_exposition** - сколько дней было размещено объявление. Объявления, которые висели дольше 3-х лет отбросим."
   ]
  },
  {
   "cell_type": "code",
   "execution_count": 27,
   "metadata": {},
   "outputs": [
    {
     "name": "stdout",
     "output_type": "stream",
     "text": [
      "Объявлению больше 3 лет :  165\n"
     ]
    },
    {
     "data": {
      "image/png": "[encoded data removed]",
      "text/plain": [
       "<Figure size 432x288 with 1 Axes>"
      ]
     },
     "metadata": {
      "needs_background": "light"
     },
     "output_type": "display_data"
    }
   ],
   "source": [
    "print('Объявлению больше 3 лет : ',data.query('days_exposition > 365*3')['days_exposition'].count())\n",
    "\n",
    "data.drop(index=data.query('days_exposition > 365*3').index,inplace=True)\n",
    "\n",
    "data.hist('days_exposition', bins=100);"
   ]
  },
  {
   "cell_type": "markdown",
   "metadata": {},
   "source": [
    "**airports_nearest**\n",
    "\n",
    "**city_centers_nearest**\n",
    "\n",
    "**parks_around3000**\n",
    "\n",
    "**parks_nearest**\n",
    "\n",
    "**ponds_around3000**\n",
    "\n",
    "**ponds_nearest**\n",
    "\n",
    "Эти данные собраны автоматизированно. Посмотрим отдельно по каждому гистограммы."
   ]
  },
  {
   "cell_type": "code",
   "execution_count": 28,
   "metadata": {},
   "outputs": [
    {
     "data": {
      "image/png": "[encoded data removed]",
      "text/plain": [
       "<Figure size 432x288 with 1 Axes>"
      ]
     },
     "metadata": {
      "needs_background": "light"
     },
     "output_type": "display_data"
    },
    {
     "data": {
      "image/png": "[encoded data removed]",
      "text/plain": [
       "<Figure size 432x288 with 1 Axes>"
      ]
     },
     "metadata": {
      "needs_background": "light"
     },
     "output_type": "display_data"
    },
    {
     "data": {
      "image/png": "[encoded data removed]",
      "text/plain": [
       "<Figure size 432x288 with 1 Axes>"
      ]
     },
     "metadata": {
      "needs_background": "light"
     },
     "output_type": "display_data"
    },
    {
     "data": {
      "image/png": "[encoded data removed]",
      "text/plain": [
       "<Figure size 432x288 with 1 Axes>"
      ]
     },
     "metadata": {
      "needs_background": "light"
     },
     "output_type": "display_data"
    },
    {
     "data": {
      "image/png": "[encoded data removed]",
      "text/plain": [
       "<Figure size 432x288 with 1 Axes>"
      ]
     },
     "metadata": {
      "needs_background": "light"
     },
     "output_type": "display_data"
    },
    {
     "data": {
      "image/png": "[encoded data removed]",
      "text/plain": [
       "<Figure size 432x288 with 1 Axes>"
      ]
     },
     "metadata": {
      "needs_background": "light"
     },
     "output_type": "display_data"
    }
   ],
   "source": [
    "data.hist('airports_nearest', bins=100, range=(0,20000))\n",
    "\n",
    "data.hist('city_centers_nearest', bins=100, range=(0,20000))\n",
    "\n",
    "data.hist('parks_around3000', bins=100)\n",
    "\n",
    "data.hist('parks_nearest', bins=100, range=(0,3000))\n",
    "\n",
    "data.hist('ponds_around3000', bins=100)\n",
    "\n",
    "data.hist('ponds_nearest', bins=100, range=(0,1400));"
   ]
  },
  {
   "cell_type": "markdown",
   "metadata": {},
   "source": [
    "Можем заметить, что в столбце **airports_nearest** есть аномально низкие значения, посмотрим их и удалим."
   ]
  },
  {
   "cell_type": "code",
   "execution_count": 29,
   "metadata": {},
   "outputs": [
    {
     "name": "stdout",
     "output_type": "stream",
     "text": [
      "Слишком близко к аэропорту: 1\n"
     ]
    }
   ],
   "source": [
    "print('Слишком близко к аэропорту:',data.query('airports_nearest < 5000')['airports_nearest'].count())\n",
    "\n",
    "data.drop(index=data.query('airports_nearest < 5000').index,inplace=True)"
   ]
  },
  {
   "cell_type": "markdown",
   "metadata": {},
   "source": [
    "Так как мы изрядно подчистили наши данные, нужно привести их к прилежному виду. Изменим индексацию."
   ]
  },
  {
   "cell_type": "code",
   "execution_count": 30,
   "metadata": {},
   "outputs": [],
   "source": [
    "data.reset_index(drop=True,inplace=True)"
   ]
  },
  {
   "cell_type": "markdown",
   "metadata": {},
   "source": [
    "Произвели переименование столбца, изменили типы данных. Сделали обработку данных, а именно:\n",
    "\n",
    "Избавились от неявных дубликатов;\n",
    "\n",
    "Отбросили слишком дешёвые и дорогие квартиры;\n",
    "\n",
    "Удалили квартиры, площадь которых более 500 кв.м.;\n",
    "\n",
    "Изменили опечатки в данных о потолках, удалили подозрительные значения;\n",
    "\n",
    "Убрали строки со слишком маленькими и большими жилыми площадями;\n",
    "\n",
    "Почистили данные площади кухни;\n",
    "\n",
    "Удалили объявления, которым более 3-х лет;\n",
    "\n",
    "Отбросили квартиру, которая неправдоподобно близко располагалась к аэропорту.\n"
   ]
  },
  {
   "cell_type": "markdown",
   "metadata": {},
   "source": [
    "### Посчитайте и добавьте в таблицу новые столбцы"
   ]
  },
  {
   "cell_type": "markdown",
   "metadata": {},
   "source": [
    "**Цена одного квадратного метра:**"
   ]
  },
  {
   "cell_type": "code",
   "execution_count": 31,
   "metadata": {},
   "outputs": [],
   "source": [
    "data['price_sqm'] = data['last_price'] / data['total_area']"
   ]
  },
  {
   "cell_type": "markdown",
   "metadata": {},
   "source": [
    "**День публикации объявления (0 - понедельник, 1 - вторник и т.д.):**"
   ]
  },
  {
   "cell_type": "code",
   "execution_count": 32,
   "metadata": {},
   "outputs": [],
   "source": [
    "data['dayofweek'] = data['first_day_exposition'].dt.dayofweek"
   ]
  },
  {
   "cell_type": "markdown",
   "metadata": {},
   "source": [
    "**Месяц публикации объявления:**"
   ]
  },
  {
   "cell_type": "code",
   "execution_count": 33,
   "metadata": {},
   "outputs": [],
   "source": [
    "data['month'] = data['first_day_exposition'].dt.month"
   ]
  },
  {
   "cell_type": "markdown",
   "metadata": {},
   "source": [
    "**Год публикации объявления:**"
   ]
  },
  {
   "cell_type": "code",
   "execution_count": 34,
   "metadata": {},
   "outputs": [],
   "source": [
    "data['year'] = data['first_day_exposition'].dt.year"
   ]
  },
  {
   "cell_type": "markdown",
   "metadata": {},
   "source": [
    "**Тип этажа квартиры (значения — «первый», «последний», «другой»):**"
   ]
  },
  {
   "cell_type": "code",
   "execution_count": 35,
   "metadata": {},
   "outputs": [],
   "source": [
    "#Напишем функцию, которая категоризирует этажи\n",
    "def floor_category(row):\n",
    "    floors_total = row['floors_total']\n",
    "    floor = row['floor']\n",
    "    if floor == 1:\n",
    "        return 'первый'\n",
    "    elif floor == floors_total:\n",
    "        return 'последний'\n",
    "    elif 1 < floor < floors_total:\n",
    "        return 'другой'\n",
    "\n",
    "#Создадим столбец, в который добавим категории, созданные нашей функцией  \n",
    "data['floor_category'] = data.apply(floor_category, axis = 1)\n",
    "\n",
    "#Это пригодится для подсчета корреляции в дальнейшем анализе\n",
    "data['floor_category_value'] = data.apply(\n",
    "    lambda x: 0 if (x.floor == 1) \n",
    "    else (2 if (x.floor == x.floors_total) & isinstance(x.floors_total,int) \n",
    "    else 1), axis=1\n",
    ")"
   ]
  },
  {
   "cell_type": "markdown",
   "metadata": {},
   "source": [
    "**Расстояние в км до центра города:**"
   ]
  },
  {
   "cell_type": "code",
   "execution_count": 36,
   "metadata": {},
   "outputs": [],
   "source": [
    "data['city_centers_nearest_km'] = round(data['city_centers_nearest'] / 1000)"
   ]
  },
  {
   "cell_type": "markdown",
   "metadata": {},
   "source": [
    "### Проведите исследовательский анализ данных"
   ]
  },
  {
   "cell_type": "code",
   "execution_count": 37,
   "metadata": {},
   "outputs": [
    {
     "data": {
      "text/html": [
       "<div>\n",
       "<style scoped>\n",
       "    .dataframe tbody tr th:only-of-type {\n",
       "        vertical-align: middle;\n",
       "    }\n",
       "\n",
       "    .dataframe tbody tr th {\n",
       "        vertical-align: top;\n",
       "    }\n",
       "\n",
       "    .dataframe thead th {\n",
       "        text-align: right;\n",
       "    }\n",
       "</style>\n",
       "<table border=\"1\" class=\"dataframe\">\n",
       "  <thead>\n",
       "    <tr style=\"text-align: right;\">\n",
       "      <th></th>\n",
       "      <th>total_images</th>\n",
       "      <th>last_price</th>\n",
       "      <th>total_area</th>\n",
       "      <th>rooms</th>\n",
       "      <th>ceiling_height</th>\n",
       "      <th>floors_total</th>\n",
       "      <th>living_area</th>\n",
       "      <th>floor</th>\n",
       "      <th>kitchen_area</th>\n",
       "      <th>balcony</th>\n",
       "      <th>...</th>\n",
       "      <th>ponds_around3000</th>\n",
       "      <th>ponds_nearest</th>\n",
       "      <th>days_exposition</th>\n",
       "      <th>ponds_around3000</th>\n",
       "      <th>price_sqm</th>\n",
       "      <th>dayofweek</th>\n",
       "      <th>month</th>\n",
       "      <th>year</th>\n",
       "      <th>floor_category_value</th>\n",
       "      <th>city_centers_nearest_km</th>\n",
       "    </tr>\n",
       "  </thead>\n",
       "  <tbody>\n",
       "    <tr>\n",
       "      <th>count</th>\n",
       "      <td>23269.000000</td>\n",
       "      <td>2.326900e+04</td>\n",
       "      <td>23269.000000</td>\n",
       "      <td>23269.000000</td>\n",
       "      <td>14161.000000</td>\n",
       "      <td>23269.000000</td>\n",
       "      <td>21398.000000</td>\n",
       "      <td>23269.000000</td>\n",
       "      <td>21029.000000</td>\n",
       "      <td>23269.000000</td>\n",
       "      <td>...</td>\n",
       "      <td>23269.000000</td>\n",
       "      <td>8877.000000</td>\n",
       "      <td>23269.00000</td>\n",
       "      <td>23269.000000</td>\n",
       "      <td>23269.000000</td>\n",
       "      <td>23269.000000</td>\n",
       "      <td>23269.000000</td>\n",
       "      <td>23269.000000</td>\n",
       "      <td>23269.000000</td>\n",
       "      <td>17810.000000</td>\n",
       "    </tr>\n",
       "    <tr>\n",
       "      <th>mean</th>\n",
       "      <td>9.861876</td>\n",
       "      <td>6.108890e+06</td>\n",
       "      <td>59.077140</td>\n",
       "      <td>2.048004</td>\n",
       "      <td>2.718538</td>\n",
       "      <td>10.672397</td>\n",
       "      <td>33.750936</td>\n",
       "      <td>5.904078</td>\n",
       "      <td>10.375841</td>\n",
       "      <td>0.592075</td>\n",
       "      <td>...</td>\n",
       "      <td>0.583652</td>\n",
       "      <td>520.325898</td>\n",
       "      <td>148.29159</td>\n",
       "      <td>0.583652</td>\n",
       "      <td>98191.449578</td>\n",
       "      <td>2.572607</td>\n",
       "      <td>6.399630</td>\n",
       "      <td>2017.386867</td>\n",
       "      <td>1.015987</td>\n",
       "      <td>14.261426</td>\n",
       "    </tr>\n",
       "    <tr>\n",
       "      <th>std</th>\n",
       "      <td>5.674370</td>\n",
       "      <td>5.925284e+06</td>\n",
       "      <td>30.361778</td>\n",
       "      <td>1.020323</td>\n",
       "      <td>0.252113</td>\n",
       "      <td>6.623899</td>\n",
       "      <td>19.139593</td>\n",
       "      <td>4.892588</td>\n",
       "      <td>5.116384</td>\n",
       "      <td>0.959019</td>\n",
       "      <td>...</td>\n",
       "      <td>0.877694</td>\n",
       "      <td>277.843231</td>\n",
       "      <td>192.53927</td>\n",
       "      <td>0.877694</td>\n",
       "      <td>42180.520133</td>\n",
       "      <td>1.789443</td>\n",
       "      <td>3.487328</td>\n",
       "      <td>1.020240</td>\n",
       "      <td>0.512272</td>\n",
       "      <td>8.585143</td>\n",
       "    </tr>\n",
       "    <tr>\n",
       "      <th>min</th>\n",
       "      <td>0.000000</td>\n",
       "      <td>4.300000e+05</td>\n",
       "      <td>12.000000</td>\n",
       "      <td>0.000000</td>\n",
       "      <td>2.500000</td>\n",
       "      <td>0.000000</td>\n",
       "      <td>10.000000</td>\n",
       "      <td>1.000000</td>\n",
       "      <td>2.000000</td>\n",
       "      <td>0.000000</td>\n",
       "      <td>...</td>\n",
       "      <td>0.000000</td>\n",
       "      <td>13.000000</td>\n",
       "      <td>0.00000</td>\n",
       "      <td>0.000000</td>\n",
       "      <td>7962.962963</td>\n",
       "      <td>0.000000</td>\n",
       "      <td>1.000000</td>\n",
       "      <td>2014.000000</td>\n",
       "      <td>0.000000</td>\n",
       "      <td>0.000000</td>\n",
       "    </tr>\n",
       "    <tr>\n",
       "      <th>25%</th>\n",
       "      <td>6.000000</td>\n",
       "      <td>3.400000e+06</td>\n",
       "      <td>40.000000</td>\n",
       "      <td>1.000000</td>\n",
       "      <td>2.520000</td>\n",
       "      <td>5.000000</td>\n",
       "      <td>18.600000</td>\n",
       "      <td>2.000000</td>\n",
       "      <td>7.000000</td>\n",
       "      <td>0.000000</td>\n",
       "      <td>...</td>\n",
       "      <td>0.000000</td>\n",
       "      <td>297.000000</td>\n",
       "      <td>22.00000</td>\n",
       "      <td>0.000000</td>\n",
       "      <td>76517.150396</td>\n",
       "      <td>1.000000</td>\n",
       "      <td>3.000000</td>\n",
       "      <td>2017.000000</td>\n",
       "      <td>1.000000</td>\n",
       "      <td>9.000000</td>\n",
       "    </tr>\n",
       "    <tr>\n",
       "      <th>50%</th>\n",
       "      <td>9.000000</td>\n",
       "      <td>4.600000e+06</td>\n",
       "      <td>52.000000</td>\n",
       "      <td>2.000000</td>\n",
       "      <td>2.650000</td>\n",
       "      <td>9.000000</td>\n",
       "      <td>30.000000</td>\n",
       "      <td>4.000000</td>\n",
       "      <td>9.050000</td>\n",
       "      <td>0.000000</td>\n",
       "      <td>...</td>\n",
       "      <td>0.000000</td>\n",
       "      <td>504.000000</td>\n",
       "      <td>72.00000</td>\n",
       "      <td>0.000000</td>\n",
       "      <td>94818.652850</td>\n",
       "      <td>3.000000</td>\n",
       "      <td>6.000000</td>\n",
       "      <td>2017.000000</td>\n",
       "      <td>1.000000</td>\n",
       "      <td>13.000000</td>\n",
       "    </tr>\n",
       "    <tr>\n",
       "      <th>75%</th>\n",
       "      <td>14.000000</td>\n",
       "      <td>6.700000e+06</td>\n",
       "      <td>69.000000</td>\n",
       "      <td>3.000000</td>\n",
       "      <td>2.800000</td>\n",
       "      <td>16.000000</td>\n",
       "      <td>42.000000</td>\n",
       "      <td>8.000000</td>\n",
       "      <td>12.000000</td>\n",
       "      <td>1.000000</td>\n",
       "      <td>...</td>\n",
       "      <td>1.000000</td>\n",
       "      <td>733.000000</td>\n",
       "      <td>193.00000</td>\n",
       "      <td>1.000000</td>\n",
       "      <td>113772.455090</td>\n",
       "      <td>4.000000</td>\n",
       "      <td>10.000000</td>\n",
       "      <td>2018.000000</td>\n",
       "      <td>1.000000</td>\n",
       "      <td>16.000000</td>\n",
       "    </tr>\n",
       "    <tr>\n",
       "      <th>max</th>\n",
       "      <td>50.000000</td>\n",
       "      <td>9.900000e+07</td>\n",
       "      <td>494.100000</td>\n",
       "      <td>7.000000</td>\n",
       "      <td>4.000000</td>\n",
       "      <td>60.000000</td>\n",
       "      <td>200.000000</td>\n",
       "      <td>33.000000</td>\n",
       "      <td>50.000000</td>\n",
       "      <td>5.000000</td>\n",
       "      <td>...</td>\n",
       "      <td>3.000000</td>\n",
       "      <td>1344.000000</td>\n",
       "      <td>1095.00000</td>\n",
       "      <td>3.000000</td>\n",
       "      <td>848484.848485</td>\n",
       "      <td>6.000000</td>\n",
       "      <td>12.000000</td>\n",
       "      <td>2019.000000</td>\n",
       "      <td>2.000000</td>\n",
       "      <td>66.000000</td>\n",
       "    </tr>\n",
       "  </tbody>\n",
       "</table>\n",
       "<p>8 rows × 24 columns</p>\n",
       "</div>"
      ],
      "text/plain": [
       "       total_images    last_price    total_area         rooms  ceiling_height  \\\n",
       "count  23269.000000  2.326900e+04  23269.000000  23269.000000    14161.000000   \n",
       "mean       9.861876  6.108890e+06     59.077140      2.048004        2.718538   \n",
       "std        5.674370  5.925284e+06     30.361778      1.020323        0.252113   \n",
       "min        0.000000  4.300000e+05     12.000000      0.000000        2.500000   \n",
       "25%        6.000000  3.400000e+06     40.000000      1.000000        2.520000   \n",
       "50%        9.000000  4.600000e+06     52.000000      2.000000        2.650000   \n",
       "75%       14.000000  6.700000e+06     69.000000      3.000000        2.800000   \n",
       "max       50.000000  9.900000e+07    494.100000      7.000000        4.000000   \n",
       "\n",
       "       floors_total   living_area         floor  kitchen_area       balcony  \\\n",
       "count  23269.000000  21398.000000  23269.000000  21029.000000  23269.000000   \n",
       "mean      10.672397     33.750936      5.904078     10.375841      0.592075   \n",
       "std        6.623899     19.139593      4.892588      5.116384      0.959019   \n",
       "min        0.000000     10.000000      1.000000      2.000000      0.000000   \n",
       "25%        5.000000     18.600000      2.000000      7.000000      0.000000   \n",
       "50%        9.000000     30.000000      4.000000      9.050000      0.000000   \n",
       "75%       16.000000     42.000000      8.000000     12.000000      1.000000   \n",
       "max       60.000000    200.000000     33.000000     50.000000      5.000000   \n",
       "\n",
       "       ...  ponds_around3000  ponds_nearest  days_exposition  \\\n",
       "count  ...      23269.000000    8877.000000      23269.00000   \n",
       "mean   ...          0.583652     520.325898        148.29159   \n",
       "std    ...          0.877694     277.843231        192.53927   \n",
       "min    ...          0.000000      13.000000          0.00000   \n",
       "25%    ...          0.000000     297.000000         22.00000   \n",
       "50%    ...          0.000000     504.000000         72.00000   \n",
       "75%    ...          1.000000     733.000000        193.00000   \n",
       "max    ...          3.000000    1344.000000       1095.00000   \n",
       "\n",
       "       ponds_around3000       price_sqm     dayofweek         month  \\\n",
       "count       23269.000000   23269.000000  23269.000000  23269.000000   \n",
       "mean            0.583652   98191.449578      2.572607      6.399630   \n",
       "std             0.877694   42180.520133      1.789443      3.487328   \n",
       "min             0.000000    7962.962963      0.000000      1.000000   \n",
       "25%             0.000000   76517.150396      1.000000      3.000000   \n",
       "50%             0.000000   94818.652850      3.000000      6.000000   \n",
       "75%             1.000000  113772.455090      4.000000     10.000000   \n",
       "max             3.000000  848484.848485      6.000000     12.000000   \n",
       "\n",
       "               year  floor_category_value  city_centers_nearest_km  \n",
       "count  23269.000000          23269.000000             17810.000000  \n",
       "mean    2017.386867              1.015987                14.261426  \n",
       "std        1.020240              0.512272                 8.585143  \n",
       "min     2014.000000              0.000000                 0.000000  \n",
       "25%     2017.000000              1.000000                 9.000000  \n",
       "50%     2017.000000              1.000000                13.000000  \n",
       "75%     2018.000000              1.000000                16.000000  \n",
       "max     2019.000000              2.000000                66.000000  \n",
       "\n",
       "[8 rows x 24 columns]"
      ]
     },
     "execution_count": 37,
     "metadata": {},
     "output_type": "execute_result"
    }
   ],
   "source": [
    "data.describe()"
   ]
  },
  {
   "cell_type": "code",
   "execution_count": 38,
   "metadata": {
    "scrolled": false
   },
   "outputs": [
    {
     "data": {
      "image/png": "[encoded data removed]",
      "text/plain": [
       "<Figure size 432x288 with 1 Axes>"
      ]
     },
     "metadata": {
      "needs_background": "light"
     },
     "output_type": "display_data"
    },
    {
     "data": {
      "image/png": "[encoded data removed]",
      "text/plain": [
       "<Figure size 432x288 with 1 Axes>"
      ]
     },
     "metadata": {
      "needs_background": "light"
     },
     "output_type": "display_data"
    },
    {
     "data": {
      "image/png": "[encoded data removed]",
      "text/plain": [
       "<Figure size 432x288 with 1 Axes>"
      ]
     },
     "metadata": {
      "needs_background": "light"
     },
     "output_type": "display_data"
    },
    {
     "data": {
      "image/png": "[encoded data removed]",
      "text/plain": [
       "<Figure size 432x288 with 1 Axes>"
      ]
     },
     "metadata": {
      "needs_background": "light"
     },
     "output_type": "display_data"
    },
    {
     "data": {
      "image/png": "[encoded data removed]",
      "text/plain": [
       "<Figure size 432x288 with 1 Axes>"
      ]
     },
     "metadata": {
      "needs_background": "light"
     },
     "output_type": "display_data"
    },
    {
     "data": {
      "image/png": "[encoded data removed]",
      "text/plain": [
       "<Figure size 432x288 with 1 Axes>"
      ]
     },
     "metadata": {
      "needs_background": "light"
     },
     "output_type": "display_data"
    },
    {
     "data": {
      "image/png": "[encoded data removed]",
      "text/plain": [
       "<Figure size 432x288 with 1 Axes>"
      ]
     },
     "metadata": {
      "needs_background": "light"
     },
     "output_type": "display_data"
    },
    {
     "data": {
      "image/png": "[encoded data removed]",
      "text/plain": [
       "<Figure size 432x288 with 1 Axes>"
      ]
     },
     "metadata": {
      "needs_background": "light"
     },
     "output_type": "display_data"
    },
    {
     "data": {
      "image/png": "[encoded data removed]",
      "text/plain": [
       "<Figure size 432x288 with 1 Axes>"
      ]
     },
     "metadata": {
      "needs_background": "light"
     },
     "output_type": "display_data"
    },
    {
     "data": {
      "image/png": "[encoded data removed]",
      "text/plain": [
       "<Figure size 432x288 with 1 Axes>"
      ]
     },
     "metadata": {
      "needs_background": "light"
     },
     "output_type": "display_data"
    },
    {
     "data": {
      "image/png": "[encoded data removed]",
      "text/plain": [
       "<Figure size 432x288 with 1 Axes>"
      ]
     },
     "metadata": {
      "needs_background": "light"
     },
     "output_type": "display_data"
    },
    {
     "data": {
      "image/png": "[encoded data removed]",
      "text/plain": [
       "<Figure size 432x288 with 1 Axes>"
      ]
     },
     "metadata": {
      "needs_background": "light"
     },
     "output_type": "display_data"
    },
    {
     "data": {
      "image/png": "[encoded data removed]",
      "text/plain": [
       "<Figure size 432x288 with 1 Axes>"
      ]
     },
     "metadata": {
      "needs_background": "light"
     },
     "output_type": "display_data"
    },
    {
     "data": {
      "image/png": "[encoded data removed]",
      "text/plain": [
       "<Figure size 432x288 with 1 Axes>"
      ]
     },
     "metadata": {
      "needs_background": "light"
     },
     "output_type": "display_data"
    }
   ],
   "source": [
    "data.groupby(by='floor_category')['floor_category'].count().plot(kind='bar', ylabel = 'count')\n",
    "\n",
    "data.hist('total_area', bins=100)\n",
    "\n",
    "data.hist('living_area', bins=50, range=(0,50))\n",
    "\n",
    "data.hist('kitchen_area', bins=20, range=(0,20))\n",
    "\n",
    "data.hist('last_price', bins=100, range=(0,2e+07))\n",
    "\n",
    "data.hist('rooms', bins=data['rooms'].max())\n",
    "\n",
    "data.hist('ceiling_height', bins=30)\n",
    "\n",
    "data.hist('floor', bins=data['floor'].max())\n",
    "\n",
    "data.hist('floors_total', bins=data['floors_total'].max())\n",
    "\n",
    "data.hist('city_centers_nearest', bins=100)\n",
    "\n",
    "data.hist('airports_nearest', bins=100)\n",
    "\n",
    "data.hist('parks_nearest', bins=100)\n",
    "\n",
    "data.hist('dayofweek', bins=7)\n",
    "\n",
    "data.hist('month', bins=12);"
   ]
  },
  {
   "cell_type": "markdown",
   "metadata": {},
   "source": [
    "**Построили гистограммы для:**\n",
    "\n",
    "**Тип этажа квартиры** \n",
    "\n",
    "Больше всего квартир на \"другом\" этаже, это предсказуемо. Первые и последние этажи в равных значениях.\n",
    "\n",
    "**Общая площадь** \n",
    "\n",
    "Больше всего квартир с площадью до 100 кв.м.\n",
    "\n",
    "**Жилая площадь**\n",
    "\n",
    "Можно заметит два пика: на 18 кв.м. и на 30 кв.м. Норма на 1 человека в России 18 кв.м.\n",
    "\n",
    "**Площадь кухни**\n",
    "\n",
    "Площадь кухни распределена хорошо.\n",
    "\n",
    "**Цена объекта**\n",
    "\n",
    "Немного \"шумный\" график. Можно заметить достаточно протяженный вправо \"хвост\", скорее всего это элитные квартиры.\n",
    "\n",
    "**Количество комнат**\n",
    "\n",
    "Большое количество двухкомнатных и трехкомнатных квартир, иногда встречается количество комнат, которых больше.\n",
    "\n",
    "**Высота потолков**\n",
    "\n",
    "Здесь два пика 2.5м и 3м, так и ожидалось.\n",
    "\n",
    "**Этаж квартиры**\n",
    "Больше всего квартир с 1 по 5 этаж.\n",
    "\n",
    "**Общее количество этажей в доме**\n",
    "\n",
    "Видим явные пики: 5-этажные дома, 9-этажные дома, стандартно для России. Также есть небольшие пики более высоких новостроек.\n",
    "\n",
    "**Расстояние до центра города в метрах**\n",
    "\n",
    "Здесь наблюдаем два пика, один маленький - 5км и другой побльшой от 10 км до 15 км. Так же есть совсем небольшие всплески на 30 км. и 50 км.\n",
    "\n",
    "**Расстояние до ближайшего аэропорта**\n",
    "\n",
    "Здесь видим довольно \"шумный\" график. Но это вполне нормально.\n",
    "\n",
    "**Расстояние до ближайшего парка**\n",
    "\n",
    "Судя по графику больше всего квартир с парками на расстоянии до 750м.\n",
    "\n",
    "**День и месяц публикации объявления**\n",
    "\n",
    "Видим провал в публикации объявлений в субботу и воскресенье, что логично. Так же видим что с февраля по апрель наблюдалась повышенная активность. Так же был плавный рост активности с июля по ноябрь. Провалы в декабре, январе и мае."
   ]
  },
  {
   "cell_type": "markdown",
   "metadata": {},
   "source": [
    "**Изучение days_exposition**"
   ]
  },
  {
   "cell_type": "code",
   "execution_count": 39,
   "metadata": {},
   "outputs": [
    {
     "name": "stdout",
     "output_type": "stream",
     "text": [
      "Среднее время продажи квартиры в днях: 148\n",
      "Медианное время продажи квартиры в днях: 72\n",
      "Количество объявлений, которые сняты через:\n",
      "45 дней: 872\n",
      "60 дней: 535\n",
      "90 дней: 202\n"
     ]
    },
    {
     "data": {
      "image/png": "[encoded data removed]",
      "text/plain": [
       "<Figure size 432x288 with 1 Axes>"
      ]
     },
     "metadata": {
      "needs_background": "light"
     },
     "output_type": "display_data"
    },
    {
     "data": {
      "image/png": "[encoded data removed]",
      "text/plain": [
       "<Figure size 432x288 with 1 Axes>"
      ]
     },
     "metadata": {
      "needs_background": "light"
     },
     "output_type": "display_data"
    }
   ],
   "source": [
    "data.hist('days_exposition', bins=100)\n",
    "data.hist('days_exposition', bins=100, range = (0,100))\n",
    "\n",
    "print('Среднее время продажи квартиры в днях:',int(data['days_exposition'].mean()))\n",
    "\n",
    "print('Медианное время продажи квартиры в днях:',int(data['days_exposition'].median()))\n",
    "\n",
    "print('Количество объявлений, которые сняты через:')\n",
    "\n",
    "print('45 дней:',data[data['days_exposition']==45]['days_exposition'].count())\n",
    "print('60 дней:',data[data['days_exposition']==60]['days_exposition'].count())\n",
    "print('90 дней:',data[data['days_exposition']==90]['days_exposition'].count())"
   ]
  },
  {
   "cell_type": "code",
   "execution_count": 40,
   "metadata": {},
   "outputs": [
    {
     "data": {
      "text/plain": [
       "count    23269.00000\n",
       "mean       148.29159\n",
       "std        192.53927\n",
       "min          0.00000\n",
       "25%         22.00000\n",
       "50%         72.00000\n",
       "75%        193.00000\n",
       "max       1095.00000\n",
       "Name: days_exposition, dtype: float64"
      ]
     },
     "execution_count": 40,
     "metadata": {},
     "output_type": "execute_result"
    }
   ],
   "source": [
    "data['days_exposition'].describe()"
   ]
  },
  {
   "cell_type": "markdown",
   "metadata": {},
   "source": [
    "Среднее время продажи квартиры составляет 148 день. Но если рассмотреть медианное значение - то время сокращается до 72 дней, в два раза меньше. Из-за большого разброса количества значений мы не можем судить только по среднему показателю, поэтому медиана расскажет нам настоящее положение дел.\n",
    "Быстрыми продажами можно считать те, которые осуществились за 22 дня, а необычно долгими - свыше 193 дня. Выбросы, которые мы считали(45 дней, 60 и 90), похожи на платные объявлени с истекшим сроком размещения или работу ситемы удаления неактивных объявлений."
   ]
  },
  {
   "cell_type": "markdown",
   "metadata": {},
   "source": [
    "**Какие факторы больше всего влияют на общую (полную) стоимость объекта?**"
   ]
  },
  {
   "cell_type": "code",
   "execution_count": 41,
   "metadata": {},
   "outputs": [
    {
     "name": "stdout",
     "output_type": "stream",
     "text": [
      "Корреляция между last_price и total_area составляет:  0.76\n",
      "Корреляция между last_price и living_area составляет:  0.67\n",
      "Корреляция между last_price и kitchen_area составляет:  0.56\n",
      "Корреляция между last_price и rooms составляет:  0.46\n",
      "Корреляция между last_price и floor_category_value составляет:  0.057\n",
      "Корреляция между last_price и dayofweek составляет: -0.00093\n",
      "Корреляция между last_price и month составляет:  0.0065\n",
      "Корреляция между last_price и year составляет: -0.039\n"
     ]
    }
   ],
   "source": [
    "influencing_values = ['total_area',\n",
    "                  'living_area',\n",
    "                  'kitchen_area',\n",
    "                  'rooms',\n",
    "                  'floor_category_value',\n",
    "                  'dayofweek',\n",
    "                  'month',\n",
    "                  'year'\n",
    "                     ]\n",
    "\n",
    "for value in influencing_values:\n",
    "    correlation = data['last_price'].corr(data[value])\n",
    "    print(f'Корреляция между last_price и {value} составляет: {correlation: 0.2}')"
   ]
  },
  {
   "cell_type": "code",
   "execution_count": 42,
   "metadata": {},
   "outputs": [
    {
     "data": {
      "image/png": "[encoded data removed]",
      "text/plain": [
       "<Figure size 432x288 with 1 Axes>"
      ]
     },
     "metadata": {
      "needs_background": "light"
     },
     "output_type": "display_data"
    },
    {
     "data": {
      "image/png": "[encoded data removed]",
      "text/plain": [
       "<Figure size 432x288 with 1 Axes>"
      ]
     },
     "metadata": {
      "needs_background": "light"
     },
     "output_type": "display_data"
    },
    {
     "data": {
      "image/png": "[encoded data removed]",
      "text/plain": [
       "<Figure size 432x288 with 1 Axes>"
      ]
     },
     "metadata": {
      "needs_background": "light"
     },
     "output_type": "display_data"
    }
   ],
   "source": [
    "data.plot(x='last_price', y='total_area', kind='scatter', alpha=0.2)\n",
    "\n",
    "data.plot(x='last_price', y='living_area', kind='scatter', alpha=0.2)\n",
    "\n",
    "data.plot(x='last_price', y='kitchen_area', kind='scatter', alpha=0.2);\n"
   ]
  },
  {
   "cell_type": "markdown",
   "metadata": {},
   "source": [
    "Можем сделать вывод, что чем больше площадь(общая, жилая или кухни), тем выше стоимость. То есть существует прямая связь цены и площади."
   ]
  },
  {
   "cell_type": "code",
   "execution_count": 43,
   "metadata": {},
   "outputs": [
    {
     "data": {
      "image/png": "[encoded data removed]",
      "text/plain": [
       "<Figure size 432x288 with 1 Axes>"
      ]
     },
     "metadata": {
      "needs_background": "light"
     },
     "output_type": "display_data"
    }
   ],
   "source": [
    "data.pivot_table(index='rooms',values='last_price').plot(y='last_price', kind='bar');"
   ]
  },
  {
   "cell_type": "markdown",
   "metadata": {},
   "source": [
    "Логично, что вместе с увеличением комнат, цена будет пропорционально увеличиваться."
   ]
  },
  {
   "cell_type": "code",
   "execution_count": 44,
   "metadata": {
    "scrolled": true
   },
   "outputs": [
    {
     "data": {
      "image/png": "[encoded data removed]",
      "text/plain": [
       "<Figure size 432x288 with 1 Axes>"
      ]
     },
     "metadata": {
      "needs_background": "light"
     },
     "output_type": "display_data"
    },
    {
     "data": {
      "image/png": "[encoded data removed]",
      "text/plain": [
       "<Figure size 432x288 with 1 Axes>"
      ]
     },
     "metadata": {
      "needs_background": "light"
     },
     "output_type": "display_data"
    },
    {
     "data": {
      "image/png": "[encoded data removed]",
      "text/plain": [
       "<Figure size 432x288 with 1 Axes>"
      ]
     },
     "metadata": {
      "needs_background": "light"
     },
     "output_type": "display_data"
    },
    {
     "data": {
      "image/png": "[encoded data removed]",
      "text/plain": [
       "<Figure size 432x288 with 1 Axes>"
      ]
     },
     "metadata": {
      "needs_background": "light"
     },
     "output_type": "display_data"
    },
    {
     "data": {
      "image/png": "[encoded data removed]",
      "text/plain": [
       "<Figure size 432x288 with 1 Axes>"
      ]
     },
     "metadata": {
      "needs_background": "light"
     },
     "output_type": "display_data"
    },
    {
     "data": {
      "image/png": "[encoded data removed]",
      "text/plain": [
       "<Figure size 432x288 with 1 Axes>"
      ]
     },
     "metadata": {
      "needs_background": "light"
     },
     "output_type": "display_data"
    }
   ],
   "source": [
    "data.pivot_table(index='dayofweek',values='last_price',aggfunc='mean').plot(y='last_price', kind='line', title='mean')\n",
    "data.pivot_table(index='dayofweek',values='last_price',aggfunc='median').plot(y='last_price', kind='line', title='median')\n",
    "\n",
    "data.pivot_table(index='month',values='last_price',aggfunc='mean').plot(y='last_price', kind='line', title='mean')\n",
    "data.pivot_table(index='month',values='last_price',aggfunc='median').plot(y='last_price', kind='line', title='median')\n",
    "\n",
    "data.pivot_table(index='year',values='last_price',aggfunc='mean').plot(y='last_price', kind='line', title='mean')\n",
    "data.pivot_table(index='year',values='last_price',aggfunc='median').plot(y='last_price', kind='line', title='median');"
   ]
  },
  {
   "cell_type": "markdown",
   "metadata": {},
   "source": [
    "**День недели:** по медианным значениям можем сделать вывод, что в выходные дни выставлялись самые дешёвые квартиры.\n",
    "\n",
    "**Месяц:** дороже всего квартиры, продающиеся с апреля, дешевле всего - в июне.\n",
    "\n",
    "**Год:** квартиры очень сильно подешевели в 2016-2018 годах, что, вероятно, вызвано некоторым кризисом 2014-2015 годов. В 2019 году цены снова стали повышаться, т.к. экономика и зарплаты скорее на подъёме."
   ]
  },
  {
   "cell_type": "code",
   "execution_count": 45,
   "metadata": {},
   "outputs": [
    {
     "data": {
      "image/png": "[encoded data removed]",
      "text/plain": [
       "<Figure size 432x288 with 1 Axes>"
      ]
     },
     "metadata": {
      "needs_background": "light"
     },
     "output_type": "display_data"
    }
   ],
   "source": [
    "data.pivot_table(index='floor_category',values='last_price').plot(y='last_price', kind='barh');\n",
    "\n"
   ]
  },
  {
   "cell_type": "markdown",
   "metadata": {},
   "source": [
    "Можем сделать вывод, что на стоимость квартиры большое влияние оказывают такие факторы, как:\n",
    "\n",
    "Общая площадь квартиры;\n",
    "\n",
    "Жилая площадь;\n",
    "\n",
    "Площадь кухни;\n",
    "\n",
    "Количество комнат.\n",
    "\n",
    "Меньшее влияние оказывают этаж и дата размещения."
   ]
  },
  {
   "cell_type": "markdown",
   "metadata": {},
   "source": [
    "**Cредняя цена одного квадратного метра в топ-10 населенных пунктах:**"
   ]
  },
  {
   "cell_type": "code",
   "execution_count": 46,
   "metadata": {
    "scrolled": true
   },
   "outputs": [
    {
     "data": {
      "text/html": [
       "<div>\n",
       "<style scoped>\n",
       "    .dataframe tbody tr th:only-of-type {\n",
       "        vertical-align: middle;\n",
       "    }\n",
       "\n",
       "    .dataframe tbody tr th {\n",
       "        vertical-align: top;\n",
       "    }\n",
       "\n",
       "    .dataframe thead th {\n",
       "        text-align: right;\n",
       "    }\n",
       "</style>\n",
       "<table border=\"1\" class=\"dataframe\">\n",
       "  <thead>\n",
       "    <tr style=\"text-align: right;\">\n",
       "      <th></th>\n",
       "      <th>price_sqm</th>\n",
       "    </tr>\n",
       "    <tr>\n",
       "      <th>locality_name</th>\n",
       "      <th></th>\n",
       "    </tr>\n",
       "  </thead>\n",
       "  <tbody>\n",
       "    <tr>\n",
       "      <th>санкт-петербург</th>\n",
       "      <td>113133</td>\n",
       "    </tr>\n",
       "    <tr>\n",
       "      <th>пушкин</th>\n",
       "      <td>102898</td>\n",
       "    </tr>\n",
       "    <tr>\n",
       "      <th>деревня кудрово</th>\n",
       "      <td>92454</td>\n",
       "    </tr>\n",
       "    <tr>\n",
       "      <th>поселок парголово</th>\n",
       "      <td>90132</td>\n",
       "    </tr>\n",
       "    <tr>\n",
       "      <th>поселок мурино</th>\n",
       "      <td>85711</td>\n",
       "    </tr>\n",
       "    <tr>\n",
       "      <th>поселок шушары</th>\n",
       "      <td>78661</td>\n",
       "    </tr>\n",
       "    <tr>\n",
       "      <th>колпино</th>\n",
       "      <td>75329</td>\n",
       "    </tr>\n",
       "    <tr>\n",
       "      <th>гатчина</th>\n",
       "      <td>68746</td>\n",
       "    </tr>\n",
       "    <tr>\n",
       "      <th>всеволожск</th>\n",
       "      <td>68690</td>\n",
       "    </tr>\n",
       "    <tr>\n",
       "      <th>выборг</th>\n",
       "      <td>58190</td>\n",
       "    </tr>\n",
       "  </tbody>\n",
       "</table>\n",
       "</div>"
      ],
      "text/plain": [
       "                   price_sqm\n",
       "locality_name               \n",
       "санкт-петербург       113133\n",
       "пушкин                102898\n",
       "деревня кудрово        92454\n",
       "поселок парголово      90132\n",
       "поселок мурино         85711\n",
       "поселок шушары         78661\n",
       "колпино                75329\n",
       "гатчина                68746\n",
       "всеволожск             68690\n",
       "выборг                 58190"
      ]
     },
     "execution_count": 46,
     "metadata": {},
     "output_type": "execute_result"
    }
   ],
   "source": [
    "top_10 = data['locality_name'].value_counts().head(10)\n",
    "top_10_price = data.query('locality_name in (@top_10.index)').pivot_table(values='price_sqm', index='locality_name')\n",
    "top_10_price = top_10_price.astype(int)\n",
    "top_10_price.sort_values('price_sqm', ascending=False)"
   ]
  },
  {
   "cell_type": "markdown",
   "metadata": {},
   "source": [
    "Наибольшая средняя стоимость квадратного метра, как и ожидалось, в Санкт-Петербурге. Затем идёт Пушкин, что, вероятно, вызвано хорошей застройкой и большим количеством парков. Затем идут районы, фактически являющиеся Санкт-Петербургом и непосредственно к нему примыкают. Из топ-10 наименьшая стоимость в Гатчине и Всеволожске, из которых далеко ехать до Санкт-Петербурга, а также неболшой по численности населения Выборг, расположенный на большом расстоянии от Санкт-Петербурга."
   ]
  },
  {
   "cell_type": "markdown",
   "metadata": {},
   "source": [
    "**Средняя цена от центра Санкт-Петербурга:**"
   ]
  },
  {
   "cell_type": "code",
   "execution_count": 47,
   "metadata": {},
   "outputs": [
    {
     "data": {
      "image/png": "[encoded data removed]",
      "text/plain": [
       "<Figure size 432x288 with 1 Axes>"
      ]
     },
     "metadata": {
      "needs_background": "light"
     },
     "output_type": "display_data"
    }
   ],
   "source": [
    "(\n",
    " data[data['locality_name']=='санкт-петербург']\n",
    "    .pivot_table(\n",
    "        index='city_centers_nearest_km',\n",
    "        values='last_price',\n",
    "        aggfunc='mean')\n",
    "    .plot(kind='bar', title = 'Соотношение цены и расстояния от центра города')\n",
    ");"
   ]
  },
  {
   "cell_type": "markdown",
   "metadata": {},
   "source": [
    "Пик цены приходится на недвижимость, которая находится до 1км от центра. Можем заметить, что цена становится ниже на недвижимость, находящаяся на расстоянии от 1 км до 7 км включительно. Затем на расстоянии от 8 км до 26 км следует спад, вполне очевидно. Хотелось бы обратить внимание на пик, который приходится на 27км от центра, такой \"выброс\" не понятен, но смеем предположить, что в том районе есть \"элитные\" дома."
   ]
  },
  {
   "cell_type": "markdown",
   "metadata": {},
   "source": [
    "### Общий вывод"
   ]
  },
  {
   "cell_type": "markdown",
   "metadata": {},
   "source": [
    "Мы можем сделать вывод, что любым данным, прежде всего, нужна предобработка, чтобы в дальнейшем уже по \"чистым\" данным мы могли сделать исследовательский анализ. В данном проекте мы работали с изменением регистров, убирали и заменяли нулевые и пропущенные значения, избавлялись от неявных дубликатов, а также изменяли типы данных. Это нам помогло в дальнейшем изучении данных. Мы исследовали каждый аспект объявлений о продажи квартиры, определили влияющие факторы на формирование стоимости квартиры, а именно: Общая площадь квартиры, её жилая площадь, площадь кухни и количество комнат. Быстрой продажей квартиры мы можем назвать сделки, которые совершились за 22 дня, а самые длительные продажи могли затянуться на несколько лет.\n",
    "\n",
    "Также мы исследовали среднюю цену квадратного метра топ-10 населенных пуктов. Лидером этого списка стал прекрасный город Санкт-Петербург, в него вошло и множество питерских районов. В конце списка оказался город Выборг.\n",
    "\n",
    "Посмотрели в городе Санкт-Петербург зависимость средней цены квадратного метра от близости к центру. Как и следовало ожидать, наибольший скачок цены оказался в радиусе до 1 км от центра. Также есть необычный пик на 27 км, мы предложили, что в том районе могут оказаться \"элитные\" дома."
   ]
  }
 ],
 "metadata": {
  "ExecuteTimeLog": [
   {
    "duration": 586,
    "start_time": "2022-11-09T12:21:43.919Z"
   },
   {
    "duration": 89,
    "start_time": "2022-11-09T12:23:24.543Z"
   },
   {
    "duration": 92,
    "start_time": "2022-11-09T12:26:32.947Z"
   },
   {
    "duration": 92,
    "start_time": "2022-11-09T12:26:34.612Z"
   },
   {
    "duration": 36,
    "start_time": "2022-11-09T12:26:45.109Z"
   },
   {
    "duration": 8,
    "start_time": "2022-11-09T12:39:21.942Z"
   },
   {
    "duration": 528,
    "start_time": "2022-11-12T15:48:19.132Z"
   },
   {
    "duration": 33,
    "start_time": "2022-11-12T15:48:19.663Z"
   },
   {
    "duration": 20,
    "start_time": "2022-11-12T15:48:19.698Z"
   },
   {
    "duration": 29,
    "start_time": "2022-11-12T15:50:24.193Z"
   },
   {
    "duration": 104,
    "start_time": "2022-11-12T15:50:29.216Z"
   },
   {
    "duration": 28,
    "start_time": "2022-11-12T15:50:29.322Z"
   },
   {
    "duration": 23,
    "start_time": "2022-11-12T15:50:29.352Z"
   },
   {
    "duration": 88,
    "start_time": "2022-11-12T15:59:18.192Z"
   },
   {
    "duration": 28,
    "start_time": "2022-11-12T15:59:18.282Z"
   },
   {
    "duration": 16,
    "start_time": "2022-11-12T15:59:18.313Z"
   },
   {
    "duration": 15,
    "start_time": "2022-11-12T16:03:41.870Z"
   },
   {
    "duration": 97,
    "start_time": "2022-11-12T16:12:22.900Z"
   },
   {
    "duration": 27,
    "start_time": "2022-11-12T16:12:22.999Z"
   },
   {
    "duration": 17,
    "start_time": "2022-11-12T16:12:23.028Z"
   },
   {
    "duration": 18,
    "start_time": "2022-11-12T16:20:12.894Z"
   },
   {
    "duration": 2114,
    "start_time": "2022-11-12T16:22:44.907Z"
   },
   {
    "duration": 1435,
    "start_time": "2022-11-12T16:23:09.533Z"
   },
   {
    "duration": 4,
    "start_time": "2022-11-12T16:28:28.835Z"
   },
   {
    "duration": 26,
    "start_time": "2022-11-12T16:29:23.139Z"
   },
   {
    "duration": 8,
    "start_time": "2022-11-12T16:31:57.980Z"
   },
   {
    "duration": 10,
    "start_time": "2022-11-12T16:32:06.941Z"
   },
   {
    "duration": 11,
    "start_time": "2022-11-12T16:32:07.708Z"
   },
   {
    "duration": 8,
    "start_time": "2022-11-12T16:32:08.596Z"
   },
   {
    "duration": 1155,
    "start_time": "2022-11-12T16:56:07.656Z"
   },
   {
    "duration": 104,
    "start_time": "2022-11-12T16:56:16.572Z"
   },
   {
    "duration": 28,
    "start_time": "2022-11-12T16:56:16.678Z"
   },
   {
    "duration": 1494,
    "start_time": "2022-11-12T16:56:16.708Z"
   },
   {
    "duration": 15,
    "start_time": "2022-11-12T16:56:18.204Z"
   },
   {
    "duration": 29,
    "start_time": "2022-11-12T16:56:18.222Z"
   },
   {
    "duration": 1101,
    "start_time": "2022-11-12T16:56:18.253Z"
   },
   {
    "duration": 1096,
    "start_time": "2022-11-12T16:57:05.952Z"
   },
   {
    "duration": 23,
    "start_time": "2022-11-12T16:57:55.130Z"
   },
   {
    "duration": 20,
    "start_time": "2022-11-12T17:08:59.442Z"
   },
   {
    "duration": 93,
    "start_time": "2022-11-12T17:09:24.708Z"
   },
   {
    "duration": 28,
    "start_time": "2022-11-12T17:09:24.803Z"
   },
   {
    "duration": 1445,
    "start_time": "2022-11-12T17:09:24.833Z"
   },
   {
    "duration": 8,
    "start_time": "2022-11-12T17:09:26.280Z"
   },
   {
    "duration": 35,
    "start_time": "2022-11-12T17:09:26.289Z"
   },
   {
    "duration": 21,
    "start_time": "2022-11-12T17:09:26.326Z"
   },
   {
    "duration": 15,
    "start_time": "2022-11-12T17:09:26.349Z"
   },
   {
    "duration": 22,
    "start_time": "2022-11-12T17:12:42.725Z"
   },
   {
    "duration": 20,
    "start_time": "2022-11-12T17:15:14.737Z"
   },
   {
    "duration": 23,
    "start_time": "2022-11-12T17:15:36.855Z"
   },
   {
    "duration": 134,
    "start_time": "2022-11-12T17:16:07.378Z"
   },
   {
    "duration": 18,
    "start_time": "2022-11-12T17:19:02.248Z"
   },
   {
    "duration": 89,
    "start_time": "2022-11-12T17:22:57.328Z"
   },
   {
    "duration": 28,
    "start_time": "2022-11-12T17:22:57.418Z"
   },
   {
    "duration": 1293,
    "start_time": "2022-11-12T17:22:57.448Z"
   },
   {
    "duration": 8,
    "start_time": "2022-11-12T17:22:58.743Z"
   },
   {
    "duration": 23,
    "start_time": "2022-11-12T17:22:58.752Z"
   },
   {
    "duration": 40,
    "start_time": "2022-11-12T17:22:58.777Z"
   },
   {
    "duration": 17,
    "start_time": "2022-11-12T17:22:58.818Z"
   },
   {
    "duration": 93,
    "start_time": "2022-11-12T17:24:06.765Z"
   },
   {
    "duration": 28,
    "start_time": "2022-11-12T17:24:06.860Z"
   },
   {
    "duration": 1461,
    "start_time": "2022-11-12T17:24:06.889Z"
   },
   {
    "duration": 8,
    "start_time": "2022-11-12T17:24:08.352Z"
   },
   {
    "duration": 23,
    "start_time": "2022-11-12T17:24:08.361Z"
   },
   {
    "duration": 34,
    "start_time": "2022-11-12T17:24:08.385Z"
   },
   {
    "duration": 23,
    "start_time": "2022-11-12T17:24:08.420Z"
   },
   {
    "duration": 68,
    "start_time": "2022-11-12T17:24:49.462Z"
   },
   {
    "duration": 28,
    "start_time": "2022-11-12T17:25:03.341Z"
   },
   {
    "duration": 6,
    "start_time": "2022-11-12T17:29:10.887Z"
   },
   {
    "duration": 52,
    "start_time": "2022-11-12T17:50:49.481Z"
   },
   {
    "duration": 68,
    "start_time": "2022-11-12T17:53:03.241Z"
   },
   {
    "duration": 9,
    "start_time": "2022-11-12T18:21:36.769Z"
   },
   {
    "duration": 49,
    "start_time": "2022-11-20T10:52:39.791Z"
   },
   {
    "duration": 750,
    "start_time": "2022-11-20T10:52:47.010Z"
   },
   {
    "duration": 39,
    "start_time": "2022-11-20T10:52:47.763Z"
   },
   {
    "duration": 1953,
    "start_time": "2022-11-20T10:52:47.804Z"
   },
   {
    "duration": 10,
    "start_time": "2022-11-20T10:52:49.760Z"
   },
   {
    "duration": 49,
    "start_time": "2022-11-20T10:52:49.772Z"
   },
   {
    "duration": 31,
    "start_time": "2022-11-20T10:52:49.823Z"
   },
   {
    "duration": 42,
    "start_time": "2022-11-20T10:52:49.856Z"
   },
   {
    "duration": 9,
    "start_time": "2022-11-20T10:52:49.900Z"
   },
   {
    "duration": 63,
    "start_time": "2022-11-20T10:52:49.911Z"
   },
   {
    "duration": 93,
    "start_time": "2022-11-20T10:52:49.977Z"
   },
   {
    "duration": 8,
    "start_time": "2022-11-20T10:52:50.071Z"
   },
   {
    "duration": 16,
    "start_time": "2022-11-20T11:04:07.887Z"
   },
   {
    "duration": 29,
    "start_time": "2022-11-20T11:07:26.192Z"
   },
   {
    "duration": 25,
    "start_time": "2022-11-20T11:11:16.330Z"
   },
   {
    "duration": 25,
    "start_time": "2022-11-20T11:22:29.018Z"
   },
   {
    "duration": 23,
    "start_time": "2022-11-20T11:24:56.021Z"
   },
   {
    "duration": 22,
    "start_time": "2022-11-20T11:25:41.207Z"
   },
   {
    "duration": 19,
    "start_time": "2022-11-20T11:26:34.794Z"
   },
   {
    "duration": 19,
    "start_time": "2022-11-20T11:33:07.086Z"
   },
   {
    "duration": 48,
    "start_time": "2022-11-20T11:37:48.322Z"
   },
   {
    "duration": 26,
    "start_time": "2022-11-20T11:50:49.526Z"
   },
   {
    "duration": 201,
    "start_time": "2022-11-20T11:53:22.982Z"
   },
   {
    "duration": 12,
    "start_time": "2022-11-20T11:54:57.525Z"
   },
   {
    "duration": 202,
    "start_time": "2022-11-20T11:56:48.733Z"
   },
   {
    "duration": 189,
    "start_time": "2022-11-20T11:57:00.051Z"
   },
   {
    "duration": 177,
    "start_time": "2022-11-20T11:57:19.447Z"
   },
   {
    "duration": 205,
    "start_time": "2022-11-20T11:57:30.188Z"
   },
   {
    "duration": 248,
    "start_time": "2022-11-20T11:57:59.007Z"
   },
   {
    "duration": 14,
    "start_time": "2022-11-20T12:00:28.181Z"
   },
   {
    "duration": 9,
    "start_time": "2022-11-20T12:00:52.523Z"
   },
   {
    "duration": 14,
    "start_time": "2022-11-20T12:01:10.913Z"
   },
   {
    "duration": 16,
    "start_time": "2022-11-20T12:03:40.950Z"
   },
   {
    "duration": 16,
    "start_time": "2022-11-20T12:05:37.799Z"
   },
   {
    "duration": 158,
    "start_time": "2022-11-20T12:34:01.490Z"
   },
   {
    "duration": 15,
    "start_time": "2022-11-20T12:36:35.054Z"
   },
   {
    "duration": 12,
    "start_time": "2022-11-20T12:36:58.572Z"
   },
   {
    "duration": 12,
    "start_time": "2022-11-20T12:37:09.016Z"
   },
   {
    "duration": 187,
    "start_time": "2022-11-20T12:38:06.738Z"
   },
   {
    "duration": 16,
    "start_time": "2022-11-20T12:41:10.003Z"
   },
   {
    "duration": 19,
    "start_time": "2022-11-20T12:41:14.547Z"
   },
   {
    "duration": 128,
    "start_time": "2022-11-20T12:43:04.022Z"
   },
   {
    "duration": 40,
    "start_time": "2022-11-20T12:43:30.509Z"
   },
   {
    "duration": 76,
    "start_time": "2022-11-20T12:45:28.377Z"
   },
   {
    "duration": 12,
    "start_time": "2022-11-20T12:46:09.235Z"
   },
   {
    "duration": 245,
    "start_time": "2022-11-20T12:50:38.104Z"
   },
   {
    "duration": 209,
    "start_time": "2022-11-20T12:51:54.383Z"
   },
   {
    "duration": 213,
    "start_time": "2022-11-20T12:53:15.087Z"
   },
   {
    "duration": 216,
    "start_time": "2022-11-20T12:53:57.501Z"
   },
   {
    "duration": 280,
    "start_time": "2022-11-20T12:54:28.827Z"
   },
   {
    "duration": 1540,
    "start_time": "2022-11-20T13:02:44.149Z"
   },
   {
    "duration": 1706,
    "start_time": "2022-11-20T13:04:07.534Z"
   },
   {
    "duration": 1640,
    "start_time": "2022-11-20T13:04:48.498Z"
   },
   {
    "duration": 1626,
    "start_time": "2022-11-20T13:05:10.709Z"
   },
   {
    "duration": 1689,
    "start_time": "2022-11-20T13:05:30.295Z"
   },
   {
    "duration": 13,
    "start_time": "2022-11-20T13:07:49.779Z"
   },
   {
    "duration": 3,
    "start_time": "2022-11-20T13:09:58.654Z"
   },
   {
    "duration": 3,
    "start_time": "2022-11-20T13:17:56.635Z"
   },
   {
    "duration": 197,
    "start_time": "2022-11-20T13:24:02.666Z"
   },
   {
    "duration": 16,
    "start_time": "2022-11-20T13:24:23.288Z"
   },
   {
    "duration": 231,
    "start_time": "2022-11-20T13:25:02.286Z"
   },
   {
    "duration": 199,
    "start_time": "2022-11-20T13:25:05.154Z"
   },
   {
    "duration": 102,
    "start_time": "2022-11-20T13:25:12.287Z"
   },
   {
    "duration": 28,
    "start_time": "2022-11-20T13:25:12.392Z"
   },
   {
    "duration": 1581,
    "start_time": "2022-11-20T13:25:12.422Z"
   },
   {
    "duration": 10,
    "start_time": "2022-11-20T13:25:14.005Z"
   },
   {
    "duration": 26,
    "start_time": "2022-11-20T13:25:14.018Z"
   },
   {
    "duration": 50,
    "start_time": "2022-11-20T13:25:14.046Z"
   },
   {
    "duration": 26,
    "start_time": "2022-11-20T13:25:14.098Z"
   },
   {
    "duration": 6,
    "start_time": "2022-11-20T13:25:14.126Z"
   },
   {
    "duration": 77,
    "start_time": "2022-11-20T13:25:14.134Z"
   },
   {
    "duration": 83,
    "start_time": "2022-11-20T13:25:14.213Z"
   },
   {
    "duration": 204,
    "start_time": "2022-11-20T13:25:14.298Z"
   },
   {
    "duration": 15,
    "start_time": "2022-11-20T13:25:14.504Z"
   },
   {
    "duration": 205,
    "start_time": "2022-11-20T13:25:14.521Z"
   },
   {
    "duration": 19,
    "start_time": "2022-11-20T13:25:14.729Z"
   },
   {
    "duration": 18,
    "start_time": "2022-11-20T13:25:14.750Z"
   },
   {
    "duration": 44,
    "start_time": "2022-11-20T13:25:14.769Z"
   },
   {
    "duration": 197,
    "start_time": "2022-11-20T13:25:14.815Z"
   },
   {
    "duration": 9,
    "start_time": "2022-11-20T13:25:15.014Z"
   },
   {
    "duration": 207,
    "start_time": "2022-11-20T13:25:15.025Z"
   },
   {
    "duration": 11,
    "start_time": "2022-11-20T13:25:15.234Z"
   },
   {
    "duration": 226,
    "start_time": "2022-11-20T13:25:15.246Z"
   },
   {
    "duration": 158,
    "start_time": "2022-11-20T13:25:15.474Z"
   },
   {
    "duration": 200,
    "start_time": "2022-11-20T13:25:15.633Z"
   },
   {
    "duration": 16,
    "start_time": "2022-11-20T13:25:15.834Z"
   },
   {
    "duration": 171,
    "start_time": "2022-11-20T13:25:15.851Z"
   },
   {
    "duration": 432,
    "start_time": "2022-11-20T13:25:16.024Z"
   },
   {
    "duration": 1467,
    "start_time": "2022-11-20T13:25:16.458Z"
   },
   {
    "duration": 14,
    "start_time": "2022-11-20T13:25:17.927Z"
   },
   {
    "duration": 2,
    "start_time": "2022-11-20T13:25:17.943Z"
   },
   {
    "duration": 10,
    "start_time": "2022-11-20T13:25:44.207Z"
   },
   {
    "duration": 101,
    "start_time": "2022-11-20T13:25:51.927Z"
   },
   {
    "duration": 33,
    "start_time": "2022-11-20T13:25:52.031Z"
   },
   {
    "duration": 1617,
    "start_time": "2022-11-20T13:25:52.065Z"
   },
   {
    "duration": 17,
    "start_time": "2022-11-20T13:25:53.684Z"
   },
   {
    "duration": 26,
    "start_time": "2022-11-20T13:25:53.702Z"
   },
   {
    "duration": 23,
    "start_time": "2022-11-20T13:25:53.729Z"
   },
   {
    "duration": 48,
    "start_time": "2022-11-20T13:25:53.753Z"
   },
   {
    "duration": 5,
    "start_time": "2022-11-20T13:25:53.803Z"
   },
   {
    "duration": 50,
    "start_time": "2022-11-20T13:25:53.809Z"
   },
   {
    "duration": 95,
    "start_time": "2022-11-20T13:25:53.862Z"
   },
   {
    "duration": 206,
    "start_time": "2022-11-20T13:25:53.958Z"
   },
   {
    "duration": 14,
    "start_time": "2022-11-20T13:25:54.166Z"
   },
   {
    "duration": 197,
    "start_time": "2022-11-20T13:25:54.182Z"
   },
   {
    "duration": 16,
    "start_time": "2022-11-20T13:25:54.381Z"
   },
   {
    "duration": 20,
    "start_time": "2022-11-20T13:25:54.398Z"
   },
   {
    "duration": 19,
    "start_time": "2022-11-20T13:25:54.419Z"
   },
   {
    "duration": 24,
    "start_time": "2022-11-20T13:25:54.439Z"
   },
   {
    "duration": 213,
    "start_time": "2022-11-20T13:25:54.465Z"
   },
   {
    "duration": 9,
    "start_time": "2022-11-20T13:25:54.679Z"
   },
   {
    "duration": 176,
    "start_time": "2022-11-20T13:25:54.696Z"
   },
   {
    "duration": 10,
    "start_time": "2022-11-20T13:25:54.874Z"
   },
   {
    "duration": 227,
    "start_time": "2022-11-20T13:25:54.896Z"
   },
   {
    "duration": 166,
    "start_time": "2022-11-20T13:25:55.126Z"
   },
   {
    "duration": 185,
    "start_time": "2022-11-20T13:25:55.295Z"
   },
   {
    "duration": 22,
    "start_time": "2022-11-20T13:25:55.482Z"
   },
   {
    "duration": 134,
    "start_time": "2022-11-20T13:25:55.505Z"
   },
   {
    "duration": 258,
    "start_time": "2022-11-20T13:25:55.640Z"
   },
   {
    "duration": 1749,
    "start_time": "2022-11-20T13:25:55.903Z"
   },
   {
    "duration": 14,
    "start_time": "2022-11-20T13:25:57.653Z"
   },
   {
    "duration": 3,
    "start_time": "2022-11-20T13:25:57.669Z"
   },
   {
    "duration": 5,
    "start_time": "2022-11-20T13:35:45.219Z"
   },
   {
    "duration": 6,
    "start_time": "2022-11-20T13:37:06.375Z"
   },
   {
    "duration": 5,
    "start_time": "2022-11-20T13:37:52.288Z"
   },
   {
    "duration": 6,
    "start_time": "2022-11-20T13:39:19.736Z"
   },
   {
    "duration": 289,
    "start_time": "2022-11-20T13:45:54.633Z"
   },
   {
    "duration": 4,
    "start_time": "2022-11-20T13:49:23.923Z"
   },
   {
    "duration": 87,
    "start_time": "2022-11-20T13:49:59.820Z"
   },
   {
    "duration": 97,
    "start_time": "2022-11-20T13:50:32.125Z"
   },
   {
    "duration": 31,
    "start_time": "2022-11-20T13:50:32.224Z"
   },
   {
    "duration": 1668,
    "start_time": "2022-11-20T13:50:32.256Z"
   },
   {
    "duration": 11,
    "start_time": "2022-11-20T13:50:33.926Z"
   },
   {
    "duration": 26,
    "start_time": "2022-11-20T13:50:33.939Z"
   },
   {
    "duration": 44,
    "start_time": "2022-11-20T13:50:33.967Z"
   },
   {
    "duration": 22,
    "start_time": "2022-11-20T13:50:34.013Z"
   },
   {
    "duration": 5,
    "start_time": "2022-11-20T13:50:34.037Z"
   },
   {
    "duration": 73,
    "start_time": "2022-11-20T13:50:34.043Z"
   },
   {
    "duration": 79,
    "start_time": "2022-11-20T13:50:34.118Z"
   },
   {
    "duration": 12,
    "start_time": "2022-11-20T13:50:34.199Z"
   },
   {
    "duration": 18,
    "start_time": "2022-11-20T13:50:34.212Z"
   },
   {
    "duration": 230,
    "start_time": "2022-11-20T13:50:34.232Z"
   },
   {
    "duration": 9,
    "start_time": "2022-11-20T13:50:34.465Z"
   },
   {
    "duration": 32,
    "start_time": "2022-11-20T13:50:34.476Z"
   },
   {
    "duration": 20,
    "start_time": "2022-11-20T13:50:34.509Z"
   },
   {
    "duration": 24,
    "start_time": "2022-11-20T13:50:34.530Z"
   },
   {
    "duration": 211,
    "start_time": "2022-11-20T13:50:34.556Z"
   },
   {
    "duration": 9,
    "start_time": "2022-11-20T13:50:34.769Z"
   },
   {
    "duration": 192,
    "start_time": "2022-11-20T13:50:34.780Z"
   },
   {
    "duration": 10,
    "start_time": "2022-11-20T13:50:34.974Z"
   },
   {
    "duration": 247,
    "start_time": "2022-11-20T13:50:34.985Z"
   },
   {
    "duration": 163,
    "start_time": "2022-11-20T13:50:35.233Z"
   },
   {
    "duration": 192,
    "start_time": "2022-11-20T13:50:35.398Z"
   },
   {
    "duration": 14,
    "start_time": "2022-11-20T13:50:35.596Z"
   },
   {
    "duration": 149,
    "start_time": "2022-11-20T13:50:35.612Z"
   },
   {
    "duration": 251,
    "start_time": "2022-11-20T13:50:35.763Z"
   },
   {
    "duration": 1552,
    "start_time": "2022-11-20T13:50:36.015Z"
   },
   {
    "duration": 27,
    "start_time": "2022-11-20T13:50:37.569Z"
   },
   {
    "duration": 2,
    "start_time": "2022-11-20T13:50:37.598Z"
   },
   {
    "duration": 9,
    "start_time": "2022-11-20T13:50:37.602Z"
   },
   {
    "duration": 10,
    "start_time": "2022-11-20T13:50:37.612Z"
   },
   {
    "duration": 7,
    "start_time": "2022-11-20T13:50:37.624Z"
   },
   {
    "duration": 6,
    "start_time": "2022-11-20T13:50:37.633Z"
   },
   {
    "duration": 595,
    "start_time": "2022-11-20T13:50:37.640Z"
   },
   {
    "duration": 13,
    "start_time": "2022-11-20T13:50:38.238Z"
   },
   {
    "duration": 97,
    "start_time": "2022-11-20T13:50:38.253Z"
   },
   {
    "duration": 44,
    "start_time": "2022-11-20T13:51:28.082Z"
   },
   {
    "duration": 19,
    "start_time": "2022-11-20T13:51:35.440Z"
   },
   {
    "duration": 18,
    "start_time": "2022-11-20T13:52:07.073Z"
   },
   {
    "duration": 5,
    "start_time": "2022-11-20T13:54:03.799Z"
   },
   {
    "duration": 6,
    "start_time": "2022-11-20T13:54:30.448Z"
   },
   {
    "duration": 5,
    "start_time": "2022-11-20T13:55:28.980Z"
   },
   {
    "duration": 88,
    "start_time": "2022-11-20T13:55:32.885Z"
   },
   {
    "duration": 26,
    "start_time": "2022-11-20T13:56:15.819Z"
   },
   {
    "duration": 5,
    "start_time": "2022-11-20T13:57:32.781Z"
   },
   {
    "duration": 251,
    "start_time": "2022-11-20T13:58:05.633Z"
   },
   {
    "duration": 3605,
    "start_time": "2022-11-20T14:00:21.911Z"
   },
   {
    "duration": 3267,
    "start_time": "2022-11-20T14:01:41.343Z"
   },
   {
    "duration": 3786,
    "start_time": "2022-11-20T14:04:29.176Z"
   },
   {
    "duration": 2489,
    "start_time": "2022-11-20T14:06:45.288Z"
   },
   {
    "duration": 2063,
    "start_time": "2022-11-20T14:07:54.606Z"
   },
   {
    "duration": 2436,
    "start_time": "2022-11-20T14:08:47.663Z"
   },
   {
    "duration": 2548,
    "start_time": "2022-11-20T14:10:12.853Z"
   },
   {
    "duration": 3109,
    "start_time": "2022-11-20T14:10:54.139Z"
   },
   {
    "duration": 253,
    "start_time": "2022-11-20T14:42:58.084Z"
   },
   {
    "duration": 479,
    "start_time": "2022-11-20T14:43:51.068Z"
   },
   {
    "duration": 716,
    "start_time": "2022-11-20T14:59:10.572Z"
   },
   {
    "duration": 268,
    "start_time": "2022-11-20T14:59:57.149Z"
   },
   {
    "duration": 17,
    "start_time": "2022-11-20T15:03:31.758Z"
   },
   {
    "duration": 9,
    "start_time": "2022-11-20T15:05:35.348Z"
   },
   {
    "duration": 676,
    "start_time": "2022-11-20T15:12:18.137Z"
   },
   {
    "duration": 11,
    "start_time": "2022-11-20T15:12:43.905Z"
   },
   {
    "duration": 10,
    "start_time": "2022-11-20T15:13:58.961Z"
   },
   {
    "duration": 9,
    "start_time": "2022-11-20T15:14:50.515Z"
   },
   {
    "duration": 743,
    "start_time": "2022-11-20T15:15:34.501Z"
   },
   {
    "duration": 351,
    "start_time": "2022-11-20T15:16:01.032Z"
   },
   {
    "duration": 109,
    "start_time": "2022-11-20T15:21:26.957Z"
   },
   {
    "duration": 53,
    "start_time": "2022-11-20T15:21:27.068Z"
   },
   {
    "duration": 1499,
    "start_time": "2022-11-20T15:21:27.123Z"
   },
   {
    "duration": 8,
    "start_time": "2022-11-20T15:21:28.625Z"
   },
   {
    "duration": 25,
    "start_time": "2022-11-20T15:21:28.634Z"
   },
   {
    "duration": 43,
    "start_time": "2022-11-20T15:21:28.661Z"
   },
   {
    "duration": 25,
    "start_time": "2022-11-20T15:21:28.706Z"
   },
   {
    "duration": 7,
    "start_time": "2022-11-20T15:21:28.733Z"
   },
   {
    "duration": 74,
    "start_time": "2022-11-20T15:21:28.742Z"
   },
   {
    "duration": 80,
    "start_time": "2022-11-20T15:21:28.819Z"
   },
   {
    "duration": 13,
    "start_time": "2022-11-20T15:21:28.901Z"
   },
   {
    "duration": 15,
    "start_time": "2022-11-20T15:21:28.916Z"
   },
   {
    "duration": 207,
    "start_time": "2022-11-20T15:21:28.933Z"
   },
   {
    "duration": 11,
    "start_time": "2022-11-20T15:21:29.142Z"
   },
   {
    "duration": 20,
    "start_time": "2022-11-20T15:21:29.154Z"
   },
   {
    "duration": 40,
    "start_time": "2022-11-20T15:21:29.175Z"
   },
   {
    "duration": 23,
    "start_time": "2022-11-20T15:21:29.216Z"
   },
   {
    "duration": 212,
    "start_time": "2022-11-20T15:21:29.241Z"
   },
   {
    "duration": 10,
    "start_time": "2022-11-20T15:21:29.455Z"
   },
   {
    "duration": 194,
    "start_time": "2022-11-20T15:21:29.467Z"
   },
   {
    "duration": 10,
    "start_time": "2022-11-20T15:21:29.662Z"
   },
   {
    "duration": 236,
    "start_time": "2022-11-20T15:21:29.674Z"
   },
   {
    "duration": 158,
    "start_time": "2022-11-20T15:21:29.912Z"
   },
   {
    "duration": 205,
    "start_time": "2022-11-20T15:21:30.071Z"
   },
   {
    "duration": 26,
    "start_time": "2022-11-20T15:21:30.278Z"
   },
   {
    "duration": 171,
    "start_time": "2022-11-20T15:21:30.307Z"
   },
   {
    "duration": 716,
    "start_time": "2022-11-20T15:21:30.480Z"
   },
   {
    "duration": 1501,
    "start_time": "2022-11-20T15:21:31.199Z"
   },
   {
    "duration": 13,
    "start_time": "2022-11-20T15:21:32.702Z"
   },
   {
    "duration": 3,
    "start_time": "2022-11-20T15:21:32.717Z"
   },
   {
    "duration": 6,
    "start_time": "2022-11-20T15:21:32.721Z"
   },
   {
    "duration": 7,
    "start_time": "2022-11-20T15:21:32.729Z"
   },
   {
    "duration": 6,
    "start_time": "2022-11-20T15:21:32.738Z"
   },
   {
    "duration": 6,
    "start_time": "2022-11-20T15:21:32.745Z"
   },
   {
    "duration": 865,
    "start_time": "2022-11-20T15:21:32.753Z"
   },
   {
    "duration": 5,
    "start_time": "2022-11-20T15:21:33.620Z"
   },
   {
    "duration": 105,
    "start_time": "2022-11-20T15:21:33.627Z"
   },
   {
    "duration": 3057,
    "start_time": "2022-11-20T15:21:33.734Z"
   },
   {
    "duration": 483,
    "start_time": "2022-11-20T15:21:36.793Z"
   },
   {
    "duration": 24,
    "start_time": "2022-11-20T15:21:37.278Z"
   },
   {
    "duration": 557,
    "start_time": "2022-11-20T15:45:42.341Z"
   },
   {
    "duration": 139,
    "start_time": "2022-11-20T15:46:46.529Z"
   },
   {
    "duration": 1022,
    "start_time": "2022-11-20T15:47:55.800Z"
   },
   {
    "duration": 790,
    "start_time": "2022-11-20T15:49:36.746Z"
   },
   {
    "duration": 541,
    "start_time": "2022-11-20T15:50:12.402Z"
   },
   {
    "duration": 265,
    "start_time": "2022-11-20T15:51:51.961Z"
   },
   {
    "duration": 21,
    "start_time": "2022-11-20T15:54:03.245Z"
   },
   {
    "duration": 124,
    "start_time": "2022-11-20T15:54:28.033Z"
   },
   {
    "duration": 28,
    "start_time": "2022-11-20T16:07:21.167Z"
   },
   {
    "duration": 23,
    "start_time": "2022-11-20T16:07:36.868Z"
   },
   {
    "duration": 45,
    "start_time": "2022-11-20T16:13:45.315Z"
   },
   {
    "duration": 253,
    "start_time": "2022-11-20T16:14:20.368Z"
   },
   {
    "duration": 131,
    "start_time": "2022-11-20T16:49:22.369Z"
   },
   {
    "duration": 31,
    "start_time": "2022-11-20T16:49:22.502Z"
   },
   {
    "duration": 1522,
    "start_time": "2022-11-20T16:49:22.535Z"
   },
   {
    "duration": 10,
    "start_time": "2022-11-20T16:49:24.059Z"
   },
   {
    "duration": 43,
    "start_time": "2022-11-20T16:49:24.071Z"
   },
   {
    "duration": 26,
    "start_time": "2022-11-20T16:49:24.116Z"
   },
   {
    "duration": 23,
    "start_time": "2022-11-20T16:49:24.144Z"
   },
   {
    "duration": 31,
    "start_time": "2022-11-20T16:49:24.169Z"
   },
   {
    "duration": 65,
    "start_time": "2022-11-20T16:49:24.205Z"
   },
   {
    "duration": 87,
    "start_time": "2022-11-20T16:49:24.272Z"
   },
   {
    "duration": 12,
    "start_time": "2022-11-20T16:49:24.361Z"
   },
   {
    "duration": 36,
    "start_time": "2022-11-20T16:49:24.375Z"
   },
   {
    "duration": 208,
    "start_time": "2022-11-20T16:49:24.412Z"
   },
   {
    "duration": 8,
    "start_time": "2022-11-20T16:49:24.623Z"
   },
   {
    "duration": 21,
    "start_time": "2022-11-20T16:49:24.632Z"
   },
   {
    "duration": 24,
    "start_time": "2022-11-20T16:49:24.654Z"
   },
   {
    "duration": 30,
    "start_time": "2022-11-20T16:49:24.699Z"
   },
   {
    "duration": 221,
    "start_time": "2022-11-20T16:49:24.731Z"
   },
   {
    "duration": 12,
    "start_time": "2022-11-20T16:49:24.954Z"
   },
   {
    "duration": 206,
    "start_time": "2022-11-20T16:49:24.968Z"
   },
   {
    "duration": 23,
    "start_time": "2022-11-20T16:49:25.177Z"
   },
   {
    "duration": 766,
    "start_time": "2022-11-20T16:49:25.202Z"
   },
   {
    "duration": 172,
    "start_time": "2022-11-20T16:49:25.970Z"
   },
   {
    "duration": 240,
    "start_time": "2022-11-20T16:49:26.144Z"
   },
   {
    "duration": 26,
    "start_time": "2022-11-20T16:49:26.386Z"
   },
   {
    "duration": 181,
    "start_time": "2022-11-20T16:49:26.414Z"
   },
   {
    "duration": 287,
    "start_time": "2022-11-20T16:49:26.597Z"
   },
   {
    "duration": 1583,
    "start_time": "2022-11-20T16:49:26.886Z"
   },
   {
    "duration": 12,
    "start_time": "2022-11-20T16:49:28.471Z"
   },
   {
    "duration": 19,
    "start_time": "2022-11-20T16:49:28.485Z"
   },
   {
    "duration": 14,
    "start_time": "2022-11-20T16:49:28.509Z"
   },
   {
    "duration": 8,
    "start_time": "2022-11-20T16:49:28.525Z"
   },
   {
    "duration": 6,
    "start_time": "2022-11-20T16:49:28.535Z"
   },
   {
    "duration": 6,
    "start_time": "2022-11-20T16:49:28.542Z"
   },
   {
    "duration": 872,
    "start_time": "2022-11-20T16:49:28.549Z"
   },
   {
    "duration": 5,
    "start_time": "2022-11-20T16:49:29.424Z"
   },
   {
    "duration": 111,
    "start_time": "2022-11-20T16:49:29.431Z"
   },
   {
    "duration": 3176,
    "start_time": "2022-11-20T16:49:29.544Z"
   },
   {
    "duration": 500,
    "start_time": "2022-11-20T16:49:32.722Z"
   },
   {
    "duration": 12,
    "start_time": "2022-11-20T16:49:33.225Z"
   },
   {
    "duration": 538,
    "start_time": "2022-11-20T16:49:33.240Z"
   },
   {
    "duration": 166,
    "start_time": "2022-11-20T16:49:33.780Z"
   },
   {
    "duration": 920,
    "start_time": "2022-11-20T16:49:33.948Z"
   },
   {
    "duration": 142,
    "start_time": "2022-11-20T16:49:34.870Z"
   },
   {
    "duration": 28,
    "start_time": "2022-11-20T16:49:35.013Z"
   },
   {
    "duration": 302,
    "start_time": "2022-11-20T16:49:35.042Z"
   },
   {
    "duration": 475,
    "start_time": "2022-11-20T18:02:18.246Z"
   },
   {
    "duration": 37,
    "start_time": "2022-11-20T18:02:18.723Z"
   },
   {
    "duration": 1725,
    "start_time": "2022-11-20T18:02:18.762Z"
   },
   {
    "duration": 8,
    "start_time": "2022-11-20T18:02:20.489Z"
   },
   {
    "duration": 35,
    "start_time": "2022-11-20T18:02:20.499Z"
   },
   {
    "duration": 22,
    "start_time": "2022-11-20T18:02:20.535Z"
   },
   {
    "duration": 26,
    "start_time": "2022-11-20T18:02:20.558Z"
   },
   {
    "duration": 6,
    "start_time": "2022-11-20T18:02:20.585Z"
   },
   {
    "duration": 53,
    "start_time": "2022-11-20T18:02:20.613Z"
   },
   {
    "duration": 80,
    "start_time": "2022-11-20T18:02:20.668Z"
   },
   {
    "duration": 13,
    "start_time": "2022-11-20T18:02:20.749Z"
   },
   {
    "duration": 13,
    "start_time": "2022-11-20T18:02:20.764Z"
   },
   {
    "duration": 222,
    "start_time": "2022-11-20T18:02:20.779Z"
   },
   {
    "duration": 14,
    "start_time": "2022-11-20T18:02:21.003Z"
   },
   {
    "duration": 21,
    "start_time": "2022-11-20T18:02:21.019Z"
   },
   {
    "duration": 20,
    "start_time": "2022-11-20T18:02:21.041Z"
   },
   {
    "duration": 23,
    "start_time": "2022-11-20T18:02:21.063Z"
   },
   {
    "duration": 210,
    "start_time": "2022-11-20T18:02:21.087Z"
   },
   {
    "duration": 19,
    "start_time": "2022-11-20T18:02:21.299Z"
   },
   {
    "duration": 178,
    "start_time": "2022-11-20T18:02:21.319Z"
   },
   {
    "duration": 15,
    "start_time": "2022-11-20T18:02:21.499Z"
   },
   {
    "duration": 216,
    "start_time": "2022-11-20T18:02:21.516Z"
   },
   {
    "duration": 212,
    "start_time": "2022-11-20T18:02:21.734Z"
   },
   {
    "duration": 174,
    "start_time": "2022-11-20T18:02:21.947Z"
   },
   {
    "duration": 13,
    "start_time": "2022-11-20T18:02:22.123Z"
   },
   {
    "duration": 126,
    "start_time": "2022-11-20T18:02:22.138Z"
   },
   {
    "duration": 232,
    "start_time": "2022-11-20T18:02:22.266Z"
   },
   {
    "duration": 1488,
    "start_time": "2022-11-20T18:02:22.501Z"
   },
   {
    "duration": 13,
    "start_time": "2022-11-20T18:02:23.991Z"
   },
   {
    "duration": 2,
    "start_time": "2022-11-20T18:02:24.012Z"
   },
   {
    "duration": 6,
    "start_time": "2022-11-20T18:02:24.016Z"
   },
   {
    "duration": 7,
    "start_time": "2022-11-20T18:02:24.023Z"
   },
   {
    "duration": 5,
    "start_time": "2022-11-20T18:02:24.032Z"
   },
   {
    "duration": 5,
    "start_time": "2022-11-20T18:02:24.039Z"
   },
   {
    "duration": 774,
    "start_time": "2022-11-20T18:02:24.045Z"
   },
   {
    "duration": 4,
    "start_time": "2022-11-20T18:02:24.821Z"
   },
   {
    "duration": 89,
    "start_time": "2022-11-20T18:02:24.826Z"
   },
   {
    "duration": 2570,
    "start_time": "2022-11-20T18:02:24.917Z"
   },
   {
    "duration": 473,
    "start_time": "2022-11-20T18:02:27.489Z"
   },
   {
    "duration": 11,
    "start_time": "2022-11-20T18:02:27.964Z"
   },
   {
    "duration": 547,
    "start_time": "2022-11-20T18:02:27.977Z"
   },
   {
    "duration": 158,
    "start_time": "2022-11-20T18:02:28.526Z"
   },
   {
    "duration": 789,
    "start_time": "2022-11-20T18:02:28.686Z"
   },
   {
    "duration": 124,
    "start_time": "2022-11-20T18:02:29.476Z"
   },
   {
    "duration": 31,
    "start_time": "2022-11-20T18:02:29.602Z"
   },
   {
    "duration": 240,
    "start_time": "2022-11-20T18:02:29.634Z"
   },
   {
    "duration": 13,
    "start_time": "2022-11-20T18:05:26.009Z"
   },
   {
    "duration": 431,
    "start_time": "2022-11-20T18:09:24.305Z"
   },
   {
    "duration": 79,
    "start_time": "2022-11-20T20:46:17.799Z"
   },
   {
    "duration": 43,
    "start_time": "2022-11-20T20:47:25.721Z"
   },
   {
    "duration": 588,
    "start_time": "2022-11-20T20:47:38.097Z"
   },
   {
    "duration": 1947,
    "start_time": "2022-11-20T20:47:46.945Z"
   },
   {
    "duration": 43,
    "start_time": "2022-11-20T20:48:57.797Z"
   },
   {
    "duration": 71,
    "start_time": "2022-11-20T20:49:18.890Z"
   },
   {
    "duration": 26,
    "start_time": "2022-11-20T20:50:26.751Z"
   },
   {
    "duration": 31,
    "start_time": "2022-11-20T20:50:34.726Z"
   },
   {
    "duration": 132,
    "start_time": "2022-11-20T20:59:53.984Z"
   },
   {
    "duration": 56,
    "start_time": "2022-11-20T20:59:54.118Z"
   },
   {
    "duration": 1761,
    "start_time": "2022-11-20T20:59:54.176Z"
   },
   {
    "duration": 30,
    "start_time": "2022-11-20T20:59:55.939Z"
   },
   {
    "duration": 31,
    "start_time": "2022-11-20T20:59:55.972Z"
   },
   {
    "duration": 49,
    "start_time": "2022-11-20T20:59:56.005Z"
   },
   {
    "duration": 42,
    "start_time": "2022-11-20T20:59:56.060Z"
   },
   {
    "duration": 7,
    "start_time": "2022-11-20T20:59:56.103Z"
   },
   {
    "duration": 85,
    "start_time": "2022-11-20T20:59:56.111Z"
   },
   {
    "duration": 87,
    "start_time": "2022-11-20T20:59:56.197Z"
   },
   {
    "duration": 15,
    "start_time": "2022-11-20T20:59:56.285Z"
   },
   {
    "duration": 15,
    "start_time": "2022-11-20T20:59:56.302Z"
   },
   {
    "duration": 256,
    "start_time": "2022-11-20T20:59:56.319Z"
   },
   {
    "duration": 9,
    "start_time": "2022-11-20T20:59:56.578Z"
   },
   {
    "duration": 22,
    "start_time": "2022-11-20T20:59:56.589Z"
   },
   {
    "duration": 50,
    "start_time": "2022-11-20T20:59:56.613Z"
   },
   {
    "duration": 27,
    "start_time": "2022-11-20T20:59:56.665Z"
   },
   {
    "duration": 241,
    "start_time": "2022-11-20T20:59:56.694Z"
   },
   {
    "duration": 20,
    "start_time": "2022-11-20T20:59:56.937Z"
   },
   {
    "duration": 201,
    "start_time": "2022-11-20T20:59:56.966Z"
   },
   {
    "duration": 11,
    "start_time": "2022-11-20T20:59:57.168Z"
   },
   {
    "duration": 248,
    "start_time": "2022-11-20T20:59:57.181Z"
   },
   {
    "duration": 174,
    "start_time": "2022-11-20T20:59:57.431Z"
   },
   {
    "duration": 317,
    "start_time": "2022-11-20T20:59:57.607Z"
   },
   {
    "duration": 30,
    "start_time": "2022-11-20T20:59:57.926Z"
   },
   {
    "duration": 155,
    "start_time": "2022-11-20T20:59:57.962Z"
   },
   {
    "duration": 280,
    "start_time": "2022-11-20T20:59:58.119Z"
   },
   {
    "duration": 1810,
    "start_time": "2022-11-20T20:59:58.401Z"
   },
   {
    "duration": 16,
    "start_time": "2022-11-20T21:00:00.213Z"
   },
   {
    "duration": 21,
    "start_time": "2022-11-20T21:00:00.231Z"
   },
   {
    "duration": 40,
    "start_time": "2022-11-20T21:00:00.254Z"
   },
   {
    "duration": 20,
    "start_time": "2022-11-20T21:00:00.296Z"
   },
   {
    "duration": 18,
    "start_time": "2022-11-20T21:00:00.319Z"
   },
   {
    "duration": 44,
    "start_time": "2022-11-20T21:00:00.339Z"
   },
   {
    "duration": 972,
    "start_time": "2022-11-20T21:00:00.384Z"
   },
   {
    "duration": 7,
    "start_time": "2022-11-20T21:00:01.357Z"
   },
   {
    "duration": 123,
    "start_time": "2022-11-20T21:00:01.366Z"
   },
   {
    "duration": 2935,
    "start_time": "2022-11-20T21:00:01.490Z"
   },
   {
    "duration": 664,
    "start_time": "2022-11-20T21:00:04.427Z"
   },
   {
    "duration": 9,
    "start_time": "2022-11-20T21:00:05.093Z"
   },
   {
    "duration": 20,
    "start_time": "2022-11-20T21:00:05.107Z"
   },
   {
    "duration": 625,
    "start_time": "2022-11-20T21:00:05.129Z"
   },
   {
    "duration": 158,
    "start_time": "2022-11-20T21:00:05.759Z"
   },
   {
    "duration": 958,
    "start_time": "2022-11-20T21:00:05.919Z"
   },
   {
    "duration": 139,
    "start_time": "2022-11-20T21:00:06.879Z"
   },
   {
    "duration": 52,
    "start_time": "2022-11-20T21:00:07.020Z"
   },
   {
    "duration": 0,
    "start_time": "2022-11-20T21:00:07.074Z"
   },
   {
    "duration": 35,
    "start_time": "2022-11-20T21:00:25.745Z"
   },
   {
    "duration": 80,
    "start_time": "2022-11-20T21:01:34.026Z"
   },
   {
    "duration": 9,
    "start_time": "2022-11-20T21:02:20.061Z"
   },
   {
    "duration": 13,
    "start_time": "2022-11-20T21:09:47.476Z"
   },
   {
    "duration": 16,
    "start_time": "2022-11-20T21:10:20.952Z"
   },
   {
    "duration": 3021,
    "start_time": "2022-11-20T21:13:28.498Z"
   },
   {
    "duration": 514,
    "start_time": "2022-11-20T21:13:48.089Z"
   },
   {
    "duration": 579,
    "start_time": "2022-11-20T21:14:05.394Z"
   },
   {
    "duration": 155,
    "start_time": "2022-11-20T21:17:15.220Z"
   },
   {
    "duration": 155,
    "start_time": "2022-11-20T21:26:36.100Z"
   },
   {
    "duration": 39,
    "start_time": "2022-11-20T21:26:36.259Z"
   },
   {
    "duration": 1754,
    "start_time": "2022-11-20T21:26:36.300Z"
   },
   {
    "duration": 28,
    "start_time": "2022-11-20T21:26:38.060Z"
   },
   {
    "duration": 29,
    "start_time": "2022-11-20T21:26:38.090Z"
   },
   {
    "duration": 48,
    "start_time": "2022-11-20T21:26:38.121Z"
   },
   {
    "duration": 32,
    "start_time": "2022-11-20T21:26:38.171Z"
   },
   {
    "duration": 7,
    "start_time": "2022-11-20T21:26:38.204Z"
   },
   {
    "duration": 79,
    "start_time": "2022-11-20T21:26:38.212Z"
   },
   {
    "duration": 84,
    "start_time": "2022-11-20T21:26:38.294Z"
   },
   {
    "duration": 14,
    "start_time": "2022-11-20T21:26:38.380Z"
   },
   {
    "duration": 14,
    "start_time": "2022-11-20T21:26:38.396Z"
   },
   {
    "duration": 263,
    "start_time": "2022-11-20T21:26:38.412Z"
   },
   {
    "duration": 8,
    "start_time": "2022-11-20T21:26:38.677Z"
   },
   {
    "duration": 20,
    "start_time": "2022-11-20T21:26:38.687Z"
   },
   {
    "duration": 43,
    "start_time": "2022-11-20T21:26:38.709Z"
   },
   {
    "duration": 29,
    "start_time": "2022-11-20T21:26:38.757Z"
   },
   {
    "duration": 225,
    "start_time": "2022-11-20T21:26:38.788Z"
   },
   {
    "duration": 10,
    "start_time": "2022-11-20T21:26:39.016Z"
   },
   {
    "duration": 208,
    "start_time": "2022-11-20T21:26:39.028Z"
   },
   {
    "duration": 31,
    "start_time": "2022-11-20T21:26:39.238Z"
   },
   {
    "duration": 402,
    "start_time": "2022-11-20T21:26:39.270Z"
   },
   {
    "duration": 211,
    "start_time": "2022-11-20T21:26:39.674Z"
   },
   {
    "duration": 247,
    "start_time": "2022-11-20T21:26:39.887Z"
   },
   {
    "duration": 27,
    "start_time": "2022-11-20T21:26:40.135Z"
   },
   {
    "duration": 167,
    "start_time": "2022-11-20T21:26:40.164Z"
   },
   {
    "duration": 271,
    "start_time": "2022-11-20T21:26:40.333Z"
   },
   {
    "duration": 1760,
    "start_time": "2022-11-20T21:26:40.608Z"
   },
   {
    "duration": 13,
    "start_time": "2022-11-20T21:26:42.370Z"
   },
   {
    "duration": 12,
    "start_time": "2022-11-20T21:26:42.385Z"
   },
   {
    "duration": 9,
    "start_time": "2022-11-20T21:26:42.399Z"
   },
   {
    "duration": 8,
    "start_time": "2022-11-20T21:26:42.410Z"
   },
   {
    "duration": 23,
    "start_time": "2022-11-20T21:26:42.420Z"
   },
   {
    "duration": 29,
    "start_time": "2022-11-20T21:26:42.445Z"
   },
   {
    "duration": 1084,
    "start_time": "2022-11-20T21:26:42.476Z"
   },
   {
    "duration": 7,
    "start_time": "2022-11-20T21:26:43.562Z"
   },
   {
    "duration": 115,
    "start_time": "2022-11-20T21:26:43.570Z"
   },
   {
    "duration": 3101,
    "start_time": "2022-11-20T21:26:43.687Z"
   },
   {
    "duration": 577,
    "start_time": "2022-11-20T21:26:46.790Z"
   },
   {
    "duration": 10,
    "start_time": "2022-11-20T21:26:47.369Z"
   },
   {
    "duration": 13,
    "start_time": "2022-11-20T21:26:47.380Z"
   },
   {
    "duration": 625,
    "start_time": "2022-11-20T21:26:47.395Z"
   },
   {
    "duration": 179,
    "start_time": "2022-11-20T21:26:48.022Z"
   },
   {
    "duration": 1327,
    "start_time": "2022-11-20T21:26:48.203Z"
   },
   {
    "duration": 188,
    "start_time": "2022-11-20T21:26:49.532Z"
   },
   {
    "duration": 54,
    "start_time": "2022-11-20T21:26:49.722Z"
   },
   {
    "duration": 358,
    "start_time": "2022-11-20T21:26:49.778Z"
   },
   {
    "duration": 241,
    "start_time": "2022-11-20T21:28:14.003Z"
   },
   {
    "duration": 186,
    "start_time": "2022-11-20T21:28:31.365Z"
   },
   {
    "duration": 172,
    "start_time": "2022-11-20T21:28:41.197Z"
   },
   {
    "duration": 235,
    "start_time": "2022-11-20T21:28:50.587Z"
   },
   {
    "duration": 161,
    "start_time": "2022-11-20T21:29:04.161Z"
   },
   {
    "duration": 190,
    "start_time": "2022-11-20T21:29:13.845Z"
   },
   {
    "duration": 127,
    "start_time": "2022-11-20T21:29:24.321Z"
   },
   {
    "duration": 419,
    "start_time": "2022-11-20T21:29:33.297Z"
   },
   {
    "duration": 1538,
    "start_time": "2022-11-20T21:29:42.045Z"
   },
   {
    "duration": 1027,
    "start_time": "2022-11-20T21:30:54.533Z"
   },
   {
    "duration": 270,
    "start_time": "2022-11-20T21:32:56.745Z"
   },
   {
    "duration": 449,
    "start_time": "2022-11-20T21:47:18.876Z"
   },
   {
    "duration": 31,
    "start_time": "2022-11-20T21:47:19.326Z"
   },
   {
    "duration": 1537,
    "start_time": "2022-11-20T21:47:19.359Z"
   },
   {
    "duration": 55,
    "start_time": "2022-11-20T21:47:20.898Z"
   },
   {
    "duration": 23,
    "start_time": "2022-11-20T21:47:20.954Z"
   },
   {
    "duration": 30,
    "start_time": "2022-11-20T21:47:20.979Z"
   },
   {
    "duration": 31,
    "start_time": "2022-11-20T21:47:21.011Z"
   },
   {
    "duration": 8,
    "start_time": "2022-11-20T21:47:21.043Z"
   },
   {
    "duration": 69,
    "start_time": "2022-11-20T21:47:21.053Z"
   },
   {
    "duration": 71,
    "start_time": "2022-11-20T21:47:21.124Z"
   },
   {
    "duration": 30,
    "start_time": "2022-11-20T21:47:21.196Z"
   },
   {
    "duration": 14,
    "start_time": "2022-11-20T21:47:21.228Z"
   },
   {
    "duration": 209,
    "start_time": "2022-11-20T21:47:21.244Z"
   },
   {
    "duration": 10,
    "start_time": "2022-11-20T21:47:21.456Z"
   },
   {
    "duration": 29,
    "start_time": "2022-11-20T21:47:21.468Z"
   },
   {
    "duration": 39,
    "start_time": "2022-11-20T21:47:21.498Z"
   },
   {
    "duration": 32,
    "start_time": "2022-11-20T21:47:21.539Z"
   },
   {
    "duration": 201,
    "start_time": "2022-11-20T21:47:21.572Z"
   },
   {
    "duration": 9,
    "start_time": "2022-11-20T21:47:21.774Z"
   },
   {
    "duration": 204,
    "start_time": "2022-11-20T21:47:21.785Z"
   },
   {
    "duration": 11,
    "start_time": "2022-11-20T21:47:21.990Z"
   },
   {
    "duration": 299,
    "start_time": "2022-11-20T21:47:22.002Z"
   },
   {
    "duration": 137,
    "start_time": "2022-11-20T21:47:22.303Z"
   },
   {
    "duration": 184,
    "start_time": "2022-11-20T21:47:22.441Z"
   },
   {
    "duration": 17,
    "start_time": "2022-11-20T21:47:22.627Z"
   },
   {
    "duration": 170,
    "start_time": "2022-11-20T21:47:22.646Z"
   },
   {
    "duration": 226,
    "start_time": "2022-11-20T21:47:22.818Z"
   },
   {
    "duration": 1373,
    "start_time": "2022-11-20T21:47:23.048Z"
   },
   {
    "duration": 12,
    "start_time": "2022-11-20T21:47:24.423Z"
   },
   {
    "duration": 4,
    "start_time": "2022-11-20T21:47:24.436Z"
   },
   {
    "duration": 8,
    "start_time": "2022-11-20T21:47:24.442Z"
   },
   {
    "duration": 14,
    "start_time": "2022-11-20T21:47:24.451Z"
   },
   {
    "duration": 5,
    "start_time": "2022-11-20T21:47:24.466Z"
   },
   {
    "duration": 5,
    "start_time": "2022-11-20T21:47:24.473Z"
   },
   {
    "duration": 768,
    "start_time": "2022-11-20T21:47:24.479Z"
   },
   {
    "duration": 4,
    "start_time": "2022-11-20T21:47:25.250Z"
   },
   {
    "duration": 110,
    "start_time": "2022-11-20T21:47:25.256Z"
   },
   {
    "duration": 2476,
    "start_time": "2022-11-20T21:47:25.368Z"
   },
   {
    "duration": 425,
    "start_time": "2022-11-20T21:47:27.845Z"
   },
   {
    "duration": 7,
    "start_time": "2022-11-20T21:47:28.272Z"
   },
   {
    "duration": 11,
    "start_time": "2022-11-20T21:47:28.280Z"
   },
   {
    "duration": 507,
    "start_time": "2022-11-20T21:47:28.292Z"
   },
   {
    "duration": 130,
    "start_time": "2022-11-20T21:47:28.800Z"
   },
   {
    "duration": 909,
    "start_time": "2022-11-20T21:47:28.931Z"
   },
   {
    "duration": 117,
    "start_time": "2022-11-20T21:47:29.842Z"
   },
   {
    "duration": 23,
    "start_time": "2022-11-20T21:47:29.960Z"
   },
   {
    "duration": 256,
    "start_time": "2022-11-20T21:47:29.984Z"
   }
  ],
  "kernelspec": {
   "display_name": "Python 3 (ipykernel)",
   "language": "python",
   "name": "python3"
  },
  "language_info": {
   "codemirror_mode": {
    "name": "ipython",
    "version": 3
   },
   "file_extension": ".py",
   "mimetype": "text/x-python",
   "name": "python",
   "nbconvert_exporter": "python",
   "pygments_lexer": "ipython3",
   "version": "3.9.5"
  },
  "toc": {
   "base_numbering": 1,
   "nav_menu": {},
   "number_sections": true,
   "sideBar": true,
   "skip_h1_title": true,
   "title_cell": "Table of Contents",
   "title_sidebar": "Contents",
   "toc_cell": false,
   "toc_position": {},
   "toc_section_display": true,
   "toc_window_display": true
  }
 },
 "nbformat": 4,
 "nbformat_minor": 2
}
